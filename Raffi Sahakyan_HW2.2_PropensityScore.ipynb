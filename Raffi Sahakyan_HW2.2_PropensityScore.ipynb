{
 "cells": [
  {
   "cell_type": "markdown",
   "metadata": {},
   "source": [
    "# Propensity Score Matching"
   ]
  },
  {
   "cell_type": "code",
   "execution_count": 150,
   "metadata": {},
   "outputs": [],
   "source": [
    "#Import basic libariaries\n",
    "%matplotlib inline\n",
    "import math\n",
    "import numpy as np\n",
    "import scipy\n",
    "import pandas as pd\n",
    "import matplotlib.pyplot as plt\n",
    "from sklearn.linear_model import LogisticRegression\n",
    "import seaborn as sns\n",
    "from causalinference import CausalModel\n"
   ]
  },
  {
   "cell_type": "code",
   "execution_count": 151,
   "metadata": {},
   "outputs": [
    {
     "data": {
      "text/html": [
       "<div>\n",
       "<style scoped>\n",
       "    .dataframe tbody tr th:only-of-type {\n",
       "        vertical-align: middle;\n",
       "    }\n",
       "\n",
       "    .dataframe tbody tr th {\n",
       "        vertical-align: top;\n",
       "    }\n",
       "\n",
       "    .dataframe thead th {\n",
       "        text-align: right;\n",
       "    }\n",
       "</style>\n",
       "<table border=\"1\" class=\"dataframe\">\n",
       "  <thead>\n",
       "    <tr style=\"text-align: right;\">\n",
       "      <th></th>\n",
       "      <th>data_id</th>\n",
       "      <th>treat</th>\n",
       "      <th>age</th>\n",
       "      <th>education</th>\n",
       "      <th>black</th>\n",
       "      <th>hispanic</th>\n",
       "      <th>married</th>\n",
       "      <th>nodegree</th>\n",
       "      <th>re74</th>\n",
       "      <th>re75</th>\n",
       "      <th>re78</th>\n",
       "    </tr>\n",
       "  </thead>\n",
       "  <tbody>\n",
       "    <tr>\n",
       "      <th>0</th>\n",
       "      <td>CPS1</td>\n",
       "      <td>0.0</td>\n",
       "      <td>45.0</td>\n",
       "      <td>11.0</td>\n",
       "      <td>0.0</td>\n",
       "      <td>0.0</td>\n",
       "      <td>1.0</td>\n",
       "      <td>1.0</td>\n",
       "      <td>21516.669922</td>\n",
       "      <td>25243.550781</td>\n",
       "      <td>25564.669922</td>\n",
       "    </tr>\n",
       "    <tr>\n",
       "      <th>1</th>\n",
       "      <td>CPS1</td>\n",
       "      <td>0.0</td>\n",
       "      <td>21.0</td>\n",
       "      <td>14.0</td>\n",
       "      <td>0.0</td>\n",
       "      <td>0.0</td>\n",
       "      <td>0.0</td>\n",
       "      <td>0.0</td>\n",
       "      <td>3175.970947</td>\n",
       "      <td>5852.564941</td>\n",
       "      <td>13496.080078</td>\n",
       "    </tr>\n",
       "    <tr>\n",
       "      <th>2</th>\n",
       "      <td>CPS1</td>\n",
       "      <td>0.0</td>\n",
       "      <td>38.0</td>\n",
       "      <td>12.0</td>\n",
       "      <td>0.0</td>\n",
       "      <td>0.0</td>\n",
       "      <td>1.0</td>\n",
       "      <td>0.0</td>\n",
       "      <td>23039.019531</td>\n",
       "      <td>25130.759766</td>\n",
       "      <td>25564.669922</td>\n",
       "    </tr>\n",
       "    <tr>\n",
       "      <th>3</th>\n",
       "      <td>CPS1</td>\n",
       "      <td>0.0</td>\n",
       "      <td>48.0</td>\n",
       "      <td>6.0</td>\n",
       "      <td>0.0</td>\n",
       "      <td>0.0</td>\n",
       "      <td>1.0</td>\n",
       "      <td>1.0</td>\n",
       "      <td>24994.369141</td>\n",
       "      <td>25243.550781</td>\n",
       "      <td>25564.669922</td>\n",
       "    </tr>\n",
       "    <tr>\n",
       "      <th>4</th>\n",
       "      <td>CPS1</td>\n",
       "      <td>0.0</td>\n",
       "      <td>18.0</td>\n",
       "      <td>8.0</td>\n",
       "      <td>0.0</td>\n",
       "      <td>0.0</td>\n",
       "      <td>1.0</td>\n",
       "      <td>1.0</td>\n",
       "      <td>1669.295044</td>\n",
       "      <td>10727.610352</td>\n",
       "      <td>9860.869141</td>\n",
       "    </tr>\n",
       "  </tbody>\n",
       "</table>\n",
       "</div>"
      ],
      "text/plain": [
       "  data_id  treat   age  education  black  hispanic  married  nodegree  \\\n",
       "0    CPS1    0.0  45.0       11.0    0.0       0.0      1.0       1.0   \n",
       "1    CPS1    0.0  21.0       14.0    0.0       0.0      0.0       0.0   \n",
       "2    CPS1    0.0  38.0       12.0    0.0       0.0      1.0       0.0   \n",
       "3    CPS1    0.0  48.0        6.0    0.0       0.0      1.0       1.0   \n",
       "4    CPS1    0.0  18.0        8.0    0.0       0.0      1.0       1.0   \n",
       "\n",
       "           re74          re75          re78  \n",
       "0  21516.669922  25243.550781  25564.669922  \n",
       "1   3175.970947   5852.564941  13496.080078  \n",
       "2  23039.019531  25130.759766  25564.669922  \n",
       "3  24994.369141  25243.550781  25564.669922  \n",
       "4   1669.295044  10727.610352   9860.869141  "
      ]
     },
     "execution_count": 151,
     "metadata": {},
     "output_type": "execute_result"
    }
   ],
   "source": [
    "control=pd.read_stata('cps_controls.dta')\n",
    "control=control.append(pd.read_stata('psid_controls.dta'))\n",
    "control.head()"
   ]
  },
  {
   "cell_type": "code",
   "execution_count": 152,
   "metadata": {},
   "outputs": [
    {
     "data": {
      "text/plain": [
       "pandas.core.frame.DataFrame"
      ]
     },
     "execution_count": 152,
     "metadata": {},
     "output_type": "execute_result"
    }
   ],
   "source": [
    "type(control)"
   ]
  },
  {
   "cell_type": "code",
   "execution_count": 153,
   "metadata": {},
   "outputs": [
    {
     "data": {
      "text/plain": [
       "18482"
      ]
     },
     "execution_count": 153,
     "metadata": {},
     "output_type": "execute_result"
    }
   ],
   "source": [
    "#check the length\n",
    "len(control)"
   ]
  },
  {
   "cell_type": "code",
   "execution_count": 154,
   "metadata": {},
   "outputs": [],
   "source": [
    "control.columns=['ID','Treated', 'Age', 'Education', 'Black', 'Hispanic', 'Married',\n",
    "         'Nodegree', 'RE74', 'RE75', 'RE78']\n"
   ]
  },
  {
   "cell_type": "code",
   "execution_count": 155,
   "metadata": {},
   "outputs": [
    {
     "data": {
      "text/html": [
       "<div>\n",
       "<style scoped>\n",
       "    .dataframe tbody tr th:only-of-type {\n",
       "        vertical-align: middle;\n",
       "    }\n",
       "\n",
       "    .dataframe tbody tr th {\n",
       "        vertical-align: top;\n",
       "    }\n",
       "\n",
       "    .dataframe thead th {\n",
       "        text-align: right;\n",
       "    }\n",
       "</style>\n",
       "<table border=\"1\" class=\"dataframe\">\n",
       "  <thead>\n",
       "    <tr style=\"text-align: right;\">\n",
       "      <th></th>\n",
       "      <th>ID</th>\n",
       "      <th>Treated</th>\n",
       "      <th>Age</th>\n",
       "      <th>Education</th>\n",
       "      <th>Black</th>\n",
       "      <th>Hispanic</th>\n",
       "      <th>Married</th>\n",
       "      <th>Nodegree</th>\n",
       "      <th>RE74</th>\n",
       "      <th>RE75</th>\n",
       "      <th>RE78</th>\n",
       "    </tr>\n",
       "  </thead>\n",
       "  <tbody>\n",
       "    <tr>\n",
       "      <th>0</th>\n",
       "      <td>CPS1</td>\n",
       "      <td>0.0</td>\n",
       "      <td>45.0</td>\n",
       "      <td>11.0</td>\n",
       "      <td>0.0</td>\n",
       "      <td>0.0</td>\n",
       "      <td>1.0</td>\n",
       "      <td>1.0</td>\n",
       "      <td>21516.669922</td>\n",
       "      <td>25243.550781</td>\n",
       "      <td>25564.669922</td>\n",
       "    </tr>\n",
       "    <tr>\n",
       "      <th>1</th>\n",
       "      <td>CPS1</td>\n",
       "      <td>0.0</td>\n",
       "      <td>21.0</td>\n",
       "      <td>14.0</td>\n",
       "      <td>0.0</td>\n",
       "      <td>0.0</td>\n",
       "      <td>0.0</td>\n",
       "      <td>0.0</td>\n",
       "      <td>3175.970947</td>\n",
       "      <td>5852.564941</td>\n",
       "      <td>13496.080078</td>\n",
       "    </tr>\n",
       "    <tr>\n",
       "      <th>2</th>\n",
       "      <td>CPS1</td>\n",
       "      <td>0.0</td>\n",
       "      <td>38.0</td>\n",
       "      <td>12.0</td>\n",
       "      <td>0.0</td>\n",
       "      <td>0.0</td>\n",
       "      <td>1.0</td>\n",
       "      <td>0.0</td>\n",
       "      <td>23039.019531</td>\n",
       "      <td>25130.759766</td>\n",
       "      <td>25564.669922</td>\n",
       "    </tr>\n",
       "    <tr>\n",
       "      <th>3</th>\n",
       "      <td>CPS1</td>\n",
       "      <td>0.0</td>\n",
       "      <td>48.0</td>\n",
       "      <td>6.0</td>\n",
       "      <td>0.0</td>\n",
       "      <td>0.0</td>\n",
       "      <td>1.0</td>\n",
       "      <td>1.0</td>\n",
       "      <td>24994.369141</td>\n",
       "      <td>25243.550781</td>\n",
       "      <td>25564.669922</td>\n",
       "    </tr>\n",
       "    <tr>\n",
       "      <th>4</th>\n",
       "      <td>CPS1</td>\n",
       "      <td>0.0</td>\n",
       "      <td>18.0</td>\n",
       "      <td>8.0</td>\n",
       "      <td>0.0</td>\n",
       "      <td>0.0</td>\n",
       "      <td>1.0</td>\n",
       "      <td>1.0</td>\n",
       "      <td>1669.295044</td>\n",
       "      <td>10727.610352</td>\n",
       "      <td>9860.869141</td>\n",
       "    </tr>\n",
       "  </tbody>\n",
       "</table>\n",
       "</div>"
      ],
      "text/plain": [
       "     ID  Treated   Age  Education  Black  Hispanic  Married  Nodegree  \\\n",
       "0  CPS1      0.0  45.0       11.0    0.0       0.0      1.0       1.0   \n",
       "1  CPS1      0.0  21.0       14.0    0.0       0.0      0.0       0.0   \n",
       "2  CPS1      0.0  38.0       12.0    0.0       0.0      1.0       0.0   \n",
       "3  CPS1      0.0  48.0        6.0    0.0       0.0      1.0       1.0   \n",
       "4  CPS1      0.0  18.0        8.0    0.0       0.0      1.0       1.0   \n",
       "\n",
       "           RE74          RE75          RE78  \n",
       "0  21516.669922  25243.550781  25564.669922  \n",
       "1   3175.970947   5852.564941  13496.080078  \n",
       "2  23039.019531  25130.759766  25564.669922  \n",
       "3  24994.369141  25243.550781  25564.669922  \n",
       "4   1669.295044  10727.610352   9860.869141  "
      ]
     },
     "execution_count": 155,
     "metadata": {},
     "output_type": "execute_result"
    }
   ],
   "source": [
    "control.head()"
   ]
  },
  {
   "cell_type": "code",
   "execution_count": 156,
   "metadata": {},
   "outputs": [],
   "source": [
    "names = ['Treated', 'Age', 'Education', 'Black', 'Hispanic', 'Married',\n",
    "         'Nodegree', 'RE74', 'RE75', 'RE78']\n",
    "\n",
    "treated = pd.read_table('nswre74_treated.txt', sep = '\\s+',\n",
    "                        header = None, names = names)\n",
    "\n",
    "treated['ID']='nswre74_treat'"
   ]
  },
  {
   "cell_type": "code",
   "execution_count": 157,
   "metadata": {},
   "outputs": [],
   "source": [
    "data = pd.concat([treated, control],sort=True)\n",
    "data['u74'] = (data.RE74 == 0).astype(np.int32)\n",
    "data['u75'] = (data.RE75 == 0).astype(np.int32)"
   ]
  },
  {
   "cell_type": "code",
   "execution_count": 158,
   "metadata": {},
   "outputs": [
    {
     "data": {
      "text/html": [
       "<div>\n",
       "<style scoped>\n",
       "    .dataframe tbody tr th:only-of-type {\n",
       "        vertical-align: middle;\n",
       "    }\n",
       "\n",
       "    .dataframe tbody tr th {\n",
       "        vertical-align: top;\n",
       "    }\n",
       "\n",
       "    .dataframe thead th {\n",
       "        text-align: right;\n",
       "    }\n",
       "</style>\n",
       "<table border=\"1\" class=\"dataframe\">\n",
       "  <thead>\n",
       "    <tr style=\"text-align: right;\">\n",
       "      <th></th>\n",
       "      <th>Age</th>\n",
       "      <th>Black</th>\n",
       "      <th>Education</th>\n",
       "      <th>Hispanic</th>\n",
       "      <th>ID</th>\n",
       "      <th>Married</th>\n",
       "      <th>Nodegree</th>\n",
       "      <th>RE74</th>\n",
       "      <th>RE75</th>\n",
       "      <th>RE78</th>\n",
       "      <th>Treated</th>\n",
       "      <th>u74</th>\n",
       "      <th>u75</th>\n",
       "    </tr>\n",
       "  </thead>\n",
       "  <tbody>\n",
       "    <tr>\n",
       "      <th>2485</th>\n",
       "      <td>47.0</td>\n",
       "      <td>0.0</td>\n",
       "      <td>8.0</td>\n",
       "      <td>0.0</td>\n",
       "      <td>PSID</td>\n",
       "      <td>1.0</td>\n",
       "      <td>1.0</td>\n",
       "      <td>44667.363281</td>\n",
       "      <td>33837.097656</td>\n",
       "      <td>38568.664062</td>\n",
       "      <td>0.0</td>\n",
       "      <td>0</td>\n",
       "      <td>0</td>\n",
       "    </tr>\n",
       "    <tr>\n",
       "      <th>2486</th>\n",
       "      <td>32.0</td>\n",
       "      <td>0.0</td>\n",
       "      <td>8.0</td>\n",
       "      <td>0.0</td>\n",
       "      <td>PSID</td>\n",
       "      <td>1.0</td>\n",
       "      <td>1.0</td>\n",
       "      <td>47022.402344</td>\n",
       "      <td>67137.093750</td>\n",
       "      <td>59109.062500</td>\n",
       "      <td>0.0</td>\n",
       "      <td>0</td>\n",
       "      <td>0</td>\n",
       "    </tr>\n",
       "    <tr>\n",
       "      <th>2487</th>\n",
       "      <td>47.0</td>\n",
       "      <td>0.0</td>\n",
       "      <td>10.0</td>\n",
       "      <td>0.0</td>\n",
       "      <td>PSID</td>\n",
       "      <td>1.0</td>\n",
       "      <td>1.0</td>\n",
       "      <td>48197.964844</td>\n",
       "      <td>47968.113281</td>\n",
       "      <td>55710.292969</td>\n",
       "      <td>0.0</td>\n",
       "      <td>0</td>\n",
       "      <td>0</td>\n",
       "    </tr>\n",
       "    <tr>\n",
       "      <th>2488</th>\n",
       "      <td>54.0</td>\n",
       "      <td>0.0</td>\n",
       "      <td>0.0</td>\n",
       "      <td>1.0</td>\n",
       "      <td>PSID</td>\n",
       "      <td>1.0</td>\n",
       "      <td>1.0</td>\n",
       "      <td>49228.539062</td>\n",
       "      <td>44220.968750</td>\n",
       "      <td>20540.398438</td>\n",
       "      <td>0.0</td>\n",
       "      <td>0</td>\n",
       "      <td>0</td>\n",
       "    </tr>\n",
       "    <tr>\n",
       "      <th>2489</th>\n",
       "      <td>40.0</td>\n",
       "      <td>0.0</td>\n",
       "      <td>8.0</td>\n",
       "      <td>0.0</td>\n",
       "      <td>PSID</td>\n",
       "      <td>1.0</td>\n",
       "      <td>1.0</td>\n",
       "      <td>50940.937500</td>\n",
       "      <td>55500.000000</td>\n",
       "      <td>53198.156250</td>\n",
       "      <td>0.0</td>\n",
       "      <td>0</td>\n",
       "      <td>0</td>\n",
       "    </tr>\n",
       "  </tbody>\n",
       "</table>\n",
       "</div>"
      ],
      "text/plain": [
       "       Age  Black  Education  Hispanic    ID  Married  Nodegree          RE74  \\\n",
       "2485  47.0    0.0        8.0       0.0  PSID      1.0       1.0  44667.363281   \n",
       "2486  32.0    0.0        8.0       0.0  PSID      1.0       1.0  47022.402344   \n",
       "2487  47.0    0.0       10.0       0.0  PSID      1.0       1.0  48197.964844   \n",
       "2488  54.0    0.0        0.0       1.0  PSID      1.0       1.0  49228.539062   \n",
       "2489  40.0    0.0        8.0       0.0  PSID      1.0       1.0  50940.937500   \n",
       "\n",
       "              RE75          RE78  Treated  u74  u75  \n",
       "2485  33837.097656  38568.664062      0.0    0    0  \n",
       "2486  67137.093750  59109.062500      0.0    0    0  \n",
       "2487  47968.113281  55710.292969      0.0    0    0  \n",
       "2488  44220.968750  20540.398438      0.0    0    0  \n",
       "2489  55500.000000  53198.156250      0.0    0    0  "
      ]
     },
     "execution_count": 158,
     "metadata": {},
     "output_type": "execute_result"
    }
   ],
   "source": [
    "data.tail()"
   ]
  },
  {
   "cell_type": "code",
   "execution_count": 159,
   "metadata": {},
   "outputs": [
    {
     "name": "stderr",
     "output_type": "stream",
     "text": [
      "/anaconda3/lib/python3.7/site-packages/scipy/stats/stats.py:1713: FutureWarning: Using a non-tuple sequence for multidimensional indexing is deprecated; use `arr[tuple(seq)]` instead of `arr[seq]`. In the future this will be interpreted as an array index, `arr[np.array(seq)]`, which will result either in an error or a different result.\n",
      "  return np.add.reduce(sorted[indexer] * weights, axis=axis) / sumval\n"
     ]
    },
    {
     "data": {
      "text/plain": [
       "<matplotlib.axes._subplots.AxesSubplot at 0x1c332a5588>"
      ]
     },
     "execution_count": 159,
     "metadata": {},
     "output_type": "execute_result"
    },
    {
     "data": {
      "image/png": "[encoded data removed]",
      "text/plain": [
       "<Figure size 432x288 with 1 Axes>"
      ]
     },
     "metadata": {
      "needs_background": "light"
     },
     "output_type": "display_data"
    }
   ],
   "source": [
    "data[['RE74_div', 'RE75_div', 'RE78_div']] = data[['RE74', 'RE75', 'RE78']] / 1000\n",
    "\n",
    "\n",
    "sns.kdeplot(data[data.Treated == 0].RE78_div, label='Control')\n",
    "sns.kdeplot(data[data.Treated == 1].RE78_div, label='Treatment')"
   ]
  },
  {
   "cell_type": "code",
   "execution_count": 160,
   "metadata": {},
   "outputs": [
    {
     "data": {
      "image/png": "[encoded data removed]",
      "text/plain": [
       "<Figure size 432x288 with 1 Axes>"
      ]
     },
     "metadata": {
      "needs_background": "light"
     },
     "output_type": "display_data"
    }
   ],
   "source": [
    "plt.hist(data[data.Treated == 0].RE78_div, label='Control', bins=50);\n",
    "plt.hist(data[data.Treated == 1].RE78_div, label='Treatment', bins=50);\n",
    "plt.legend();"
   ]
  },
  {
   "cell_type": "code",
   "execution_count": 161,
   "metadata": {},
   "outputs": [
    {
     "data": {
      "text/plain": [
       "Index(['Age', 'Black', 'Education', 'Hispanic', 'ID', 'Married', 'Nodegree',\n",
       "       'RE74', 'RE75', 'RE78', 'Treated', 'u74', 'u75', 'RE74_div', 'RE75_div',\n",
       "       'RE78_div'],\n",
       "      dtype='object')"
      ]
     },
     "execution_count": 161,
     "metadata": {},
     "output_type": "execute_result"
    }
   ],
   "source": [
    "data.columns"
   ]
  },
  {
   "cell_type": "code",
   "execution_count": 162,
   "metadata": {},
   "outputs": [
    {
     "name": "stdout",
     "output_type": "stream",
     "text": [
      "\n",
      "Summary Statistics\n",
      "\n",
      "                       Controls (N_c=531)         Treated (N_t=151)             \n",
      "       Variable         Mean         S.d.         Mean         S.d.     Raw-diff\n",
      "--------------------------------------------------------------------------------\n",
      "              Y        4.984        7.957        6.021        7.957        1.037\n",
      "\n",
      "                       Controls (N_c=531)         Treated (N_t=151)             \n",
      "       Variable         Mean         S.d.         Mean         S.d.     Nor-diff\n",
      "--------------------------------------------------------------------------------\n",
      "             X0       28.175       11.837       25.728        7.344       -0.248\n",
      "             X1       10.458        2.802       10.238        2.061       -0.089\n",
      "             X2        0.902        0.297        0.967        0.180        0.264\n",
      "             X3        0.098        0.297        0.033        0.180       -0.264\n",
      "             X4        0.303        0.460        0.139        0.347       -0.403\n",
      "             X5        0.612        0.488        0.742        0.439        0.279\n",
      "             X6        2.288        3.588        1.206        3.003       -0.327\n",
      "             X7        1.347        2.060        0.835        1.581       -0.279\n",
      "\n",
      "\n",
      "Treatment Effect Estimates: OLS\n",
      "\n",
      "                     Est.       S.e.          z      P>|z|      [95% Conf. int.]\n",
      "--------------------------------------------------------------------------------\n",
      "           ATE      1.805      0.762      2.368      0.018      0.311      3.299\n",
      "           ATC      1.803      0.934      1.930      0.054     -0.028      3.634\n",
      "           ATT      1.812      0.387      4.688      0.000      1.055      2.570\n",
      "\n",
      "Treatment Effect Estimates: Matching\n",
      "\n",
      "                     Est.       S.e.          z      P>|z|      [95% Conf. int.]\n",
      "--------------------------------------------------------------------------------\n",
      "           ATE      1.513      1.569      0.964      0.335     -1.563      4.589\n",
      "           ATC      1.619      1.831      0.884      0.376     -1.969      5.207\n",
      "           ATT      1.139      1.480      0.770      0.442     -1.762      4.040\n",
      "\n",
      "Treatment Effect Estimates: Weighting\n",
      "\n",
      "                     Est.       S.e.          z      P>|z|      [95% Conf. int.]\n",
      "--------------------------------------------------------------------------------\n",
      "           ATE      1.531      0.757      2.022      0.043      0.047      3.014\n",
      "\n",
      "\n",
      "Estimated Parameters of Propensity Score\n",
      "\n",
      "                    Coef.       S.e.          z      P>|z|      [95% Conf. int.]\n",
      "--------------------------------------------------------------------------------\n",
      "     Intercept     -5.535      0.775     -7.139      0.000     -7.055     -4.016\n",
      "            X0     -0.010      0.010     -1.074      0.283     -0.029      0.009\n",
      "            X1      0.051      0.047      1.095      0.273     -0.040      0.142\n",
      "            X2      4.069      0.258     15.768      0.000      3.563      4.574\n",
      "            X3      1.832      0.391      4.687      0.000      1.066      2.598\n",
      "            X4     -1.134      0.232     -4.882      0.000     -1.589     -0.679\n",
      "            X5      0.938      0.258      3.632      0.000      0.432      1.445\n",
      "            X6     -0.046      0.027     -1.738      0.082     -0.099      0.006\n",
      "            X7     -0.218      0.035     -6.190      0.000     -0.287     -0.149\n",
      "\n",
      "\n",
      "Stratification Summary\n",
      "\n",
      "              Propensity Score         Sample Size     Ave. Propensity   Outcome\n",
      "   Stratum      Min.      Max.  Controls   Treated  Controls   Treated  Raw-diff\n",
      "--------------------------------------------------------------------------------\n",
      "         1     0.066     0.094       161        11     0.079     0.080     0.825\n",
      "         2     0.094     0.189       147        23     0.130     0.143     0.720\n",
      "         3     0.190     0.307       119        51     0.242     0.243     2.326\n",
      "         4     0.307     0.423        59        26     0.372     0.384     2.543\n",
      "         5     0.423     0.464        45        40     0.441     0.440     0.432\n",
      "\n"
     ]
    },
    {
     "name": "stderr",
     "output_type": "stream",
     "text": [
      "/anaconda3/lib/python3.7/site-packages/causalinference/estimators/ols.py:21: FutureWarning: `rcond` parameter will change to the default of machine precision times ``max(M, N)`` where M and N are the input matrix dimensions.\n",
      "To use the future default and silence this warning we advise to pass `rcond=None`, to keep using the old, explicitly pass `rcond=-1`.\n",
      "  olscoef = np.linalg.lstsq(Z, Y)[0]\n",
      "/anaconda3/lib/python3.7/site-packages/causalinference/estimators/matching.py:100: FutureWarning: `rcond` parameter will change to the default of machine precision times ``max(M, N)`` where M and N are the input matrix dimensions.\n",
      "To use the future default and silence this warning we advise to pass `rcond=None`, to keep using the old, explicitly pass `rcond=-1`.\n",
      "  return np.linalg.lstsq(X, Y)[0][1:]  # don't need intercept coef\n",
      "/anaconda3/lib/python3.7/site-packages/causalinference/estimators/weighting.py:23: FutureWarning: `rcond` parameter will change to the default of machine precision times ``max(M, N)`` where M and N are the input matrix dimensions.\n",
      "To use the future default and silence this warning we advise to pass `rcond=None`, to keep using the old, explicitly pass `rcond=-1`.\n",
      "  wlscoef = np.linalg.lstsq(Z_w, Y_w)[0]\n"
     ]
    }
   ],
   "source": [
    "causal_model = CausalModel(\n",
    "    X=data[['Age', 'Education', 'Black', 'Hispanic', 'Married','Nodegree', 'RE74_div', 'RE75_div']].values,\n",
    "    D=data.Treated.values,\n",
    "    Y=data.RE78_div.values\n",
    ")\n",
    "causal_model.est_propensity()\n",
    "causal_model.trim_s()\n",
    "causal_model.stratify_s()\n",
    "causal_model.est_via_ols()\n",
    "causal_model.est_via_matching(bias_adj=True)\n",
    "causal_model.est_via_weighting()\n",
    "\n",
    "print(causal_model.summary_stats)\n",
    "print(causal_model.estimates)\n",
    "print(causal_model.propensity)\n",
    "print(causal_model.strata)"
   ]
  },
  {
   "cell_type": "code",
   "execution_count": 163,
   "metadata": {},
   "outputs": [],
   "source": [
    "# We run three models and see positive treatment effects in each one;\n",
    "# though only 2 are \"significant\", which can be seen in the \"ATE\" output lines\n"
   ]
  },
  {
   "cell_type": "code",
   "execution_count": 164,
   "metadata": {},
   "outputs": [],
   "source": [
    "import statsmodels.formula.api as smf\n",
    "import statsmodels.api as sm"
   ]
  },
  {
   "cell_type": "code",
   "execution_count": 166,
   "metadata": {},
   "outputs": [],
   "source": [
    "from patsy import dmatrices\n",
    "from scipy.spatial.distance import cdist\n",
    "from scipy.optimize import linear_sum_assignment"
   ]
  },
  {
   "cell_type": "code",
   "execution_count": 183,
   "metadata": {},
   "outputs": [],
   "source": [
    "# create propensity score estimates\n",
    "_, X_propensity = dmatrices(propensity_formula, data, return_type='dataframe')\n",
    "propensities = propensity_model.predict(exog=X_propensity)\n",
    "\n",
    "split = control.shape[0]\n",
    "\n",
    "treatment = np.expand_dims(propensities[split:], 1)\n",
    "Control = np.expand_dims(propensities[:split], 1)\n",
    "\n",
    "# Calculating the distance in propensity of each treatment sample to each control sample\n",
    "distances = cdist(treatment, Control)\n",
    "\n",
    "# Computing an optimal match between the two groups\n",
    "treatment_idx, control_idx = linear_sum_assignment(distances)\n",
    "\n",
    "treatment_data = data[split:].iloc[treatment_idx]\n",
    "control_data = data[:split].iloc[control_idx]"
   ]
  },
  {
   "cell_type": "code",
   "execution_count": 184,
   "metadata": {},
   "outputs": [
    {
     "data": {
      "text/plain": [
       "<matplotlib.axes._subplots.AxesSubplot at 0x1c3325a550>"
      ]
     },
     "execution_count": 184,
     "metadata": {},
     "output_type": "execute_result"
    },
    {
     "data": {
      "image/png": "[encoded data removed]",
      "text/plain": [
       "<Figure size 432x288 with 1 Axes>"
      ]
     },
     "metadata": {
      "needs_background": "light"
     },
     "output_type": "display_data"
    }
   ],
   "source": [
    "sns.kdeplot(treatment_data.RE78, label='Treatment')\n",
    "sns.kdeplot(control_data.RE78, label='Control')"
   ]
  },
  {
   "cell_type": "code",
   "execution_count": 185,
   "metadata": {},
   "outputs": [
    {
     "data": {
      "image/png": "[encoded data removed]",
      "text/plain": [
       "<Figure size 432x288 with 1 Axes>"
      ]
     },
     "metadata": {
      "needs_background": "light"
     },
     "output_type": "display_data"
    }
   ],
   "source": [
    "plt.hist(treatment_data.RE78, label='Treatment', bins=100)\n",
    "plt.hist(control_data.RE78, label='Control', bins=100)\n",
    "plt.legend();"
   ]
  },
  {
   "cell_type": "code",
   "execution_count": 198,
   "metadata": {},
   "outputs": [],
   "source": [
    "# we see that the control group doesn't overwhelm our treatment group like it did before, the graphs are similar"
   ]
  },
  {
   "cell_type": "code",
   "execution_count": null,
   "metadata": {},
   "outputs": [],
   "source": []
  }
 ],
 "metadata": {
  "kernelspec": {
   "display_name": "Python 3",
   "language": "python",
   "name": "python3"
  },
  "language_info": {
   "codemirror_mode": {
    "name": "ipython",
    "version": 3
   },
   "file_extension": ".py",
   "mimetype": "text/x-python",
   "name": "python",
   "nbconvert_exporter": "python",
   "pygments_lexer": "ipython3",
   "version": "3.7.1"
  }
 },
 "nbformat": 4,
 "nbformat_minor": 2
}
