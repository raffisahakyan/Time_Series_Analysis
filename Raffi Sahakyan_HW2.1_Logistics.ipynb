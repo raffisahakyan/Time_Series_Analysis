{
 "cells": [
  {
   "cell_type": "code",
   "execution_count": 1,
   "metadata": {},
   "outputs": [],
   "source": [
    "# Data Imports\n",
    "import numpy as np\n",
    "import pandas as pd\n",
    "from pandas import Series,DataFrame\n",
    "\n",
    "# Math\n",
    "import math\n",
    "\n",
    "# Plot imports\n",
    "import matplotlib.pyplot as plt\n",
    "import seaborn as sns\n",
    "sns.set_style('whitegrid')\n",
    "%matplotlib inline\n",
    "\n",
    "# Machine Learning Imports\n",
    "from sklearn.linear_model import LogisticRegression\n",
    "from sklearn.model_selection import train_test_split\n",
    "\n",
    "# For evaluating our ML results\n",
    "from sklearn import metrics\n",
    "\n",
    "# Dataset Import\n",
    "import statsmodels.api as sm"
   ]
  },
  {
   "cell_type": "code",
   "execution_count": 2,
   "metadata": {},
   "outputs": [],
   "source": [
    "df = pd.read_stata('nels_small.dta')"
   ]
  },
  {
   "cell_type": "code",
   "execution_count": 3,
   "metadata": {},
   "outputs": [
    {
     "data": {
      "text/html": [
       "<div>\n",
       "<style scoped>\n",
       "    .dataframe tbody tr th:only-of-type {\n",
       "        vertical-align: middle;\n",
       "    }\n",
       "\n",
       "    .dataframe tbody tr th {\n",
       "        vertical-align: top;\n",
       "    }\n",
       "\n",
       "    .dataframe thead th {\n",
       "        text-align: right;\n",
       "    }\n",
       "</style>\n",
       "<table border=\"1\" class=\"dataframe\">\n",
       "  <thead>\n",
       "    <tr style=\"text-align: right;\">\n",
       "      <th></th>\n",
       "      <th>psechoice</th>\n",
       "      <th>hscath</th>\n",
       "      <th>grades</th>\n",
       "      <th>faminc</th>\n",
       "      <th>famsiz</th>\n",
       "      <th>parcoll</th>\n",
       "      <th>female</th>\n",
       "      <th>black</th>\n",
       "    </tr>\n",
       "  </thead>\n",
       "  <tbody>\n",
       "    <tr>\n",
       "      <th>0</th>\n",
       "      <td>2</td>\n",
       "      <td>0</td>\n",
       "      <td>9.08</td>\n",
       "      <td>62.5</td>\n",
       "      <td>5</td>\n",
       "      <td>0</td>\n",
       "      <td>0</td>\n",
       "      <td>0</td>\n",
       "    </tr>\n",
       "    <tr>\n",
       "      <th>1</th>\n",
       "      <td>2</td>\n",
       "      <td>0</td>\n",
       "      <td>8.31</td>\n",
       "      <td>42.5</td>\n",
       "      <td>4</td>\n",
       "      <td>0</td>\n",
       "      <td>1</td>\n",
       "      <td>0</td>\n",
       "    </tr>\n",
       "    <tr>\n",
       "      <th>2</th>\n",
       "      <td>3</td>\n",
       "      <td>0</td>\n",
       "      <td>7.42</td>\n",
       "      <td>62.5</td>\n",
       "      <td>4</td>\n",
       "      <td>0</td>\n",
       "      <td>1</td>\n",
       "      <td>0</td>\n",
       "    </tr>\n",
       "    <tr>\n",
       "      <th>3</th>\n",
       "      <td>3</td>\n",
       "      <td>0</td>\n",
       "      <td>7.42</td>\n",
       "      <td>62.5</td>\n",
       "      <td>4</td>\n",
       "      <td>0</td>\n",
       "      <td>1</td>\n",
       "      <td>0</td>\n",
       "    </tr>\n",
       "    <tr>\n",
       "      <th>4</th>\n",
       "      <td>3</td>\n",
       "      <td>0</td>\n",
       "      <td>7.42</td>\n",
       "      <td>62.5</td>\n",
       "      <td>4</td>\n",
       "      <td>0</td>\n",
       "      <td>1</td>\n",
       "      <td>0</td>\n",
       "    </tr>\n",
       "  </tbody>\n",
       "</table>\n",
       "</div>"
      ],
      "text/plain": [
       "   psechoice  hscath  grades  faminc  famsiz  parcoll  female  black\n",
       "0          2       0    9.08    62.5       5        0       0      0\n",
       "1          2       0    8.31    42.5       4        0       1      0\n",
       "2          3       0    7.42    62.5       4        0       1      0\n",
       "3          3       0    7.42    62.5       4        0       1      0\n",
       "4          3       0    7.42    62.5       4        0       1      0"
      ]
     },
     "execution_count": 3,
     "metadata": {},
     "output_type": "execute_result"
    }
   ],
   "source": [
    "df.head()"
   ]
  },
  {
   "cell_type": "code",
   "execution_count": 4,
   "metadata": {},
   "outputs": [
    {
     "data": {
      "text/html": [
       "<div>\n",
       "<style scoped>\n",
       "    .dataframe tbody tr th:only-of-type {\n",
       "        vertical-align: middle;\n",
       "    }\n",
       "\n",
       "    .dataframe tbody tr th {\n",
       "        vertical-align: top;\n",
       "    }\n",
       "\n",
       "    .dataframe thead th {\n",
       "        text-align: right;\n",
       "    }\n",
       "</style>\n",
       "<table border=\"1\" class=\"dataframe\">\n",
       "  <thead>\n",
       "    <tr style=\"text-align: right;\">\n",
       "      <th></th>\n",
       "      <th>psechoice</th>\n",
       "      <th>hscath</th>\n",
       "      <th>grades</th>\n",
       "      <th>faminc</th>\n",
       "      <th>famsiz</th>\n",
       "      <th>parcoll</th>\n",
       "      <th>female</th>\n",
       "      <th>black</th>\n",
       "    </tr>\n",
       "  </thead>\n",
       "  <tbody>\n",
       "    <tr>\n",
       "      <th>count</th>\n",
       "      <td>1000.000000</td>\n",
       "      <td>1000.000000</td>\n",
       "      <td>1000.000000</td>\n",
       "      <td>1000.000000</td>\n",
       "      <td>1000.000000</td>\n",
       "      <td>1000.000000</td>\n",
       "      <td>1000.000000</td>\n",
       "      <td>1000.000000</td>\n",
       "    </tr>\n",
       "    <tr>\n",
       "      <th>mean</th>\n",
       "      <td>2.305000</td>\n",
       "      <td>0.019000</td>\n",
       "      <td>6.530390</td>\n",
       "      <td>51.393501</td>\n",
       "      <td>4.206000</td>\n",
       "      <td>0.308000</td>\n",
       "      <td>0.496000</td>\n",
       "      <td>0.056000</td>\n",
       "    </tr>\n",
       "    <tr>\n",
       "      <th>std</th>\n",
       "      <td>0.810328</td>\n",
       "      <td>0.136593</td>\n",
       "      <td>2.265855</td>\n",
       "      <td>40.165859</td>\n",
       "      <td>1.291988</td>\n",
       "      <td>0.461898</td>\n",
       "      <td>0.500234</td>\n",
       "      <td>0.230037</td>\n",
       "    </tr>\n",
       "    <tr>\n",
       "      <th>min</th>\n",
       "      <td>1.000000</td>\n",
       "      <td>0.000000</td>\n",
       "      <td>1.740000</td>\n",
       "      <td>0.000000</td>\n",
       "      <td>1.000000</td>\n",
       "      <td>0.000000</td>\n",
       "      <td>0.000000</td>\n",
       "      <td>0.000000</td>\n",
       "    </tr>\n",
       "    <tr>\n",
       "      <th>25%</th>\n",
       "      <td>2.000000</td>\n",
       "      <td>0.000000</td>\n",
       "      <td>4.912500</td>\n",
       "      <td>30.000000</td>\n",
       "      <td>3.000000</td>\n",
       "      <td>0.000000</td>\n",
       "      <td>0.000000</td>\n",
       "      <td>0.000000</td>\n",
       "    </tr>\n",
       "    <tr>\n",
       "      <th>50%</th>\n",
       "      <td>3.000000</td>\n",
       "      <td>0.000000</td>\n",
       "      <td>6.640000</td>\n",
       "      <td>42.500000</td>\n",
       "      <td>4.000000</td>\n",
       "      <td>0.000000</td>\n",
       "      <td>0.000000</td>\n",
       "      <td>0.000000</td>\n",
       "    </tr>\n",
       "    <tr>\n",
       "      <th>75%</th>\n",
       "      <td>3.000000</td>\n",
       "      <td>0.000000</td>\n",
       "      <td>8.240000</td>\n",
       "      <td>62.500000</td>\n",
       "      <td>5.000000</td>\n",
       "      <td>1.000000</td>\n",
       "      <td>1.000000</td>\n",
       "      <td>0.000000</td>\n",
       "    </tr>\n",
       "    <tr>\n",
       "      <th>max</th>\n",
       "      <td>3.000000</td>\n",
       "      <td>1.000000</td>\n",
       "      <td>12.330000</td>\n",
       "      <td>250.000000</td>\n",
       "      <td>10.000000</td>\n",
       "      <td>1.000000</td>\n",
       "      <td>1.000000</td>\n",
       "      <td>1.000000</td>\n",
       "    </tr>\n",
       "  </tbody>\n",
       "</table>\n",
       "</div>"
      ],
      "text/plain": [
       "         psechoice       hscath       grades       faminc       famsiz  \\\n",
       "count  1000.000000  1000.000000  1000.000000  1000.000000  1000.000000   \n",
       "mean      2.305000     0.019000     6.530390    51.393501     4.206000   \n",
       "std       0.810328     0.136593     2.265855    40.165859     1.291988   \n",
       "min       1.000000     0.000000     1.740000     0.000000     1.000000   \n",
       "25%       2.000000     0.000000     4.912500    30.000000     3.000000   \n",
       "50%       3.000000     0.000000     6.640000    42.500000     4.000000   \n",
       "75%       3.000000     0.000000     8.240000    62.500000     5.000000   \n",
       "max       3.000000     1.000000    12.330000   250.000000    10.000000   \n",
       "\n",
       "           parcoll       female        black  \n",
       "count  1000.000000  1000.000000  1000.000000  \n",
       "mean      0.308000     0.496000     0.056000  \n",
       "std       0.461898     0.500234     0.230037  \n",
       "min       0.000000     0.000000     0.000000  \n",
       "25%       0.000000     0.000000     0.000000  \n",
       "50%       0.000000     0.000000     0.000000  \n",
       "75%       1.000000     1.000000     0.000000  \n",
       "max       1.000000     1.000000     1.000000  "
      ]
     },
     "execution_count": 4,
     "metadata": {},
     "output_type": "execute_result"
    }
   ],
   "source": [
    "df.describe()"
   ]
  },
  {
   "cell_type": "code",
   "execution_count": 7,
   "metadata": {},
   "outputs": [
    {
     "data": {
      "text/plain": [
       "array([2, 3, 1])"
      ]
     },
     "execution_count": 7,
     "metadata": {},
     "output_type": "execute_result"
    }
   ],
   "source": [
    "df['psechoice'].unique()"
   ]
  },
  {
   "cell_type": "code",
   "execution_count": 24,
   "metadata": {},
   "outputs": [],
   "source": [
    "college=[]\n",
    "for i in range(0,1000):\n",
    "    if df['psechoice'][i]==1:\n",
    "        college.append(0)\n",
    "    else:\n",
    "        college.append(1)\n",
    "        "
   ]
  },
  {
   "cell_type": "code",
   "execution_count": 25,
   "metadata": {},
   "outputs": [
    {
     "data": {
      "text/html": [
       "<div>\n",
       "<style scoped>\n",
       "    .dataframe tbody tr th:only-of-type {\n",
       "        vertical-align: middle;\n",
       "    }\n",
       "\n",
       "    .dataframe tbody tr th {\n",
       "        vertical-align: top;\n",
       "    }\n",
       "\n",
       "    .dataframe thead th {\n",
       "        text-align: right;\n",
       "    }\n",
       "</style>\n",
       "<table border=\"1\" class=\"dataframe\">\n",
       "  <thead>\n",
       "    <tr style=\"text-align: right;\">\n",
       "      <th></th>\n",
       "      <th>psechoice</th>\n",
       "      <th>hscath</th>\n",
       "      <th>grades</th>\n",
       "      <th>faminc</th>\n",
       "      <th>famsiz</th>\n",
       "      <th>parcoll</th>\n",
       "      <th>female</th>\n",
       "      <th>black</th>\n",
       "      <th>college</th>\n",
       "    </tr>\n",
       "  </thead>\n",
       "  <tbody>\n",
       "    <tr>\n",
       "      <th>0</th>\n",
       "      <td>2</td>\n",
       "      <td>0</td>\n",
       "      <td>9.08</td>\n",
       "      <td>62.5</td>\n",
       "      <td>5</td>\n",
       "      <td>0</td>\n",
       "      <td>0</td>\n",
       "      <td>0</td>\n",
       "      <td>1</td>\n",
       "    </tr>\n",
       "    <tr>\n",
       "      <th>1</th>\n",
       "      <td>2</td>\n",
       "      <td>0</td>\n",
       "      <td>8.31</td>\n",
       "      <td>42.5</td>\n",
       "      <td>4</td>\n",
       "      <td>0</td>\n",
       "      <td>1</td>\n",
       "      <td>0</td>\n",
       "      <td>1</td>\n",
       "    </tr>\n",
       "    <tr>\n",
       "      <th>2</th>\n",
       "      <td>3</td>\n",
       "      <td>0</td>\n",
       "      <td>7.42</td>\n",
       "      <td>62.5</td>\n",
       "      <td>4</td>\n",
       "      <td>0</td>\n",
       "      <td>1</td>\n",
       "      <td>0</td>\n",
       "      <td>1</td>\n",
       "    </tr>\n",
       "    <tr>\n",
       "      <th>3</th>\n",
       "      <td>3</td>\n",
       "      <td>0</td>\n",
       "      <td>7.42</td>\n",
       "      <td>62.5</td>\n",
       "      <td>4</td>\n",
       "      <td>0</td>\n",
       "      <td>1</td>\n",
       "      <td>0</td>\n",
       "      <td>1</td>\n",
       "    </tr>\n",
       "    <tr>\n",
       "      <th>4</th>\n",
       "      <td>3</td>\n",
       "      <td>0</td>\n",
       "      <td>7.42</td>\n",
       "      <td>62.5</td>\n",
       "      <td>4</td>\n",
       "      <td>0</td>\n",
       "      <td>1</td>\n",
       "      <td>0</td>\n",
       "      <td>1</td>\n",
       "    </tr>\n",
       "  </tbody>\n",
       "</table>\n",
       "</div>"
      ],
      "text/plain": [
       "   psechoice  hscath  grades  faminc  famsiz  parcoll  female  black  college\n",
       "0          2       0    9.08    62.5       5        0       0      0        1\n",
       "1          2       0    8.31    42.5       4        0       1      0        1\n",
       "2          3       0    7.42    62.5       4        0       1      0        1\n",
       "3          3       0    7.42    62.5       4        0       1      0        1\n",
       "4          3       0    7.42    62.5       4        0       1      0        1"
      ]
     },
     "execution_count": 25,
     "metadata": {},
     "output_type": "execute_result"
    }
   ],
   "source": [
    "df['college']=college\n",
    "df.head()"
   ]
  },
  {
   "cell_type": "code",
   "execution_count": 44,
   "metadata": {},
   "outputs": [
    {
     "data": {
      "text/plain": [
       "1    778\n",
       "0    222\n",
       "Name: college, dtype: int64"
      ]
     },
     "execution_count": 44,
     "metadata": {},
     "output_type": "execute_result"
    }
   ],
   "source": [
    "df['college'].value_counts()"
   ]
  },
  {
   "cell_type": "markdown",
   "metadata": {},
   "source": [
    "# a)"
   ]
  },
  {
   "cell_type": "code",
   "execution_count": 72,
   "metadata": {},
   "outputs": [
    {
     "name": "stdout",
     "output_type": "stream",
     "text": [
      "Percentage of the high school graduates attended college= 77.8 %\n"
     ]
    }
   ],
   "source": [
    "college_perc=778/1000*100\n",
    "print(\"Percentage of the high school graduates attended college=\", college_perc,\"%\")"
   ]
  },
  {
   "cell_type": "markdown",
   "metadata": {},
   "source": [
    "# b)"
   ]
  },
  {
   "cell_type": "code",
   "execution_count": 56,
   "metadata": {},
   "outputs": [],
   "source": [
    "X=df.loc[:,['grades','faminc','famsiz','parcoll','female','black']]\n",
    "Y=df['college']"
   ]
  },
  {
   "cell_type": "code",
   "execution_count": 100,
   "metadata": {},
   "outputs": [
    {
     "name": "stdout",
     "output_type": "stream",
     "text": [
      "Optimization terminated successfully.\n",
      "         Current function value: 0.468360\n",
      "         Iterations 6\n",
      "                          Probit Regression Results                           \n",
      "==============================================================================\n",
      "Dep. Variable:                college   No. Observations:                 1000\n",
      "Model:                         Probit   Df Residuals:                      994\n",
      "Method:                           MLE   Df Model:                            5\n",
      "Date:                Mon, 15 Apr 2019   Pseudo R-squ.:                  0.1153\n",
      "Time:                        11:48:33   Log-Likelihood:                -468.36\n",
      "converged:                       True   LL-Null:                       -529.43\n",
      "                                        LLR p-value:                 1.107e-24\n",
      "==============================================================================\n",
      "                 coef    std err          z      P>|z|      [0.025      0.975]\n",
      "------------------------------------------------------------------------------\n",
      "grades        -0.1035      0.017     -6.254      0.000      -0.136      -0.071\n",
      "faminc         0.0086      0.002      4.860      0.000       0.005       0.012\n",
      "famsiz         0.1624      0.030      5.356      0.000       0.103       0.222\n",
      "parcoll        0.6601      0.131      5.026      0.000       0.403       0.918\n",
      "female         0.3249      0.092      3.550      0.000       0.146       0.504\n",
      "black          0.5637      0.211      2.677      0.007       0.151       0.976\n",
      "==============================================================================\n"
     ]
    }
   ],
   "source": [
    "# Statsmodels \n",
    "probit = sm.Probit(Y,X)\n",
    "result = probit.fit()\n",
    "print (result.summary())"
   ]
  },
  {
   "cell_type": "code",
   "execution_count": 101,
   "metadata": {},
   "outputs": [
    {
     "name": "stdout",
     "output_type": "stream",
     "text": [
      "grades     0.901662\n",
      "faminc     1.008674\n",
      "famsiz     1.176274\n",
      "parcoll    1.935018\n",
      "female     1.383841\n",
      "black      1.757084\n",
      "dtype: float64\n"
     ]
    }
   ],
   "source": [
    "# odds ratios only\n",
    "print (np.exp(result.params))"
   ]
  },
  {
   "cell_type": "code",
   "execution_count": 71,
   "metadata": {},
   "outputs": [],
   "source": [
    "# GRADES- as 1 is the highest & 13 the lowest, I would expect the negative sign, \n",
    "# as the lower grades will decrease the chances of going to college\n",
    "# FAMINC- yes, higher gross family income, higher the chances for college (more able to afford the fee)\n",
    "# FAMSIZ- no, I would expect people from families with high number of children having smaller college opportunity, \n",
    "# as there are many people for whom family should take care off\n",
    "# PARCOLL- yes, I would expect educated parents to do their best to create college opportunity for the child\n",
    "# FEMALE & BLACK- somewhat no, as there are a lot of statistics that white male go to college more than either balck or women\n",
    "\n",
    "# all the coefficients are significant, all p-values<0.05"
   ]
  },
  {
   "cell_type": "markdown",
   "metadata": {},
   "source": [
    "# c)"
   ]
  },
  {
   "cell_type": "code",
   "execution_count": 102,
   "metadata": {},
   "outputs": [
    {
     "name": "stdout",
     "output_type": "stream",
     "text": [
      "Probability of attending college=  [98.88946885]\n"
     ]
    }
   ],
   "source": [
    "x_new1=[5,51.4,5,1,1,1]\n",
    "y_new1=result.predict(x_new1)\n",
    "print ('Probability of attending college= ', y_new1*100)"
   ]
  },
  {
   "cell_type": "code",
   "execution_count": 103,
   "metadata": {},
   "outputs": [
    {
     "name": "stdout",
     "output_type": "stream",
     "text": [
      "Probability of attending college=  [96.15673583]\n"
     ]
    }
   ],
   "source": [
    "x_new2=[10,51.4,5,1,1,1]\n",
    "y_new2=result.predict(x_new2)\n",
    "print ('Probability of attending college= ', y_new2*100)"
   ]
  },
  {
   "cell_type": "markdown",
   "metadata": {},
   "source": [
    "# d)"
   ]
  },
  {
   "cell_type": "code",
   "execution_count": 104,
   "metadata": {},
   "outputs": [
    {
     "name": "stdout",
     "output_type": "stream",
     "text": [
      "Probability of attending college=  [88.59979043]\n"
     ]
    }
   ],
   "source": [
    "x_new3=[10,51.4,5,1,1,0]\n",
    "y_new3=result.predict(x_new3)\n",
    "print ('Probability of attending college= ', y_new3*100)"
   ]
  },
  {
   "cell_type": "code",
   "execution_count": 105,
   "metadata": {},
   "outputs": [
    {
     "name": "stdout",
     "output_type": "stream",
     "text": [
      "Probability of attending college=  [81.07470638]\n"
     ]
    }
   ],
   "source": [
    "x_new4=[10,51.4,5,1,0,0]\n",
    "y_new4=result.predict(x_new4)\n",
    "print ('Probability of attending college= ', y_new4*100)"
   ]
  },
  {
   "cell_type": "markdown",
   "metadata": {},
   "source": [
    "# e)"
   ]
  },
  {
   "cell_type": "code",
   "execution_count": 106,
   "metadata": {},
   "outputs": [],
   "source": [
    "X1=df.loc[:,['grades','faminc','famsiz']]\n",
    "Y1=df['college']"
   ]
  },
  {
   "cell_type": "code",
   "execution_count": 107,
   "metadata": {},
   "outputs": [
    {
     "name": "stdout",
     "output_type": "stream",
     "text": [
      "Optimization terminated successfully.\n",
      "         Current function value: 0.491659\n",
      "         Iterations 6\n",
      "                          Probit Regression Results                           \n",
      "==============================================================================\n",
      "Dep. Variable:                college   No. Observations:                 1000\n",
      "Model:                         Probit   Df Residuals:                      997\n",
      "Method:                           MLE   Df Model:                            2\n",
      "Date:                Mon, 15 Apr 2019   Pseudo R-squ.:                 0.07134\n",
      "Time:                        11:50:20   Log-Likelihood:                -491.66\n",
      "converged:                       True   LL-Null:                       -529.43\n",
      "                                        LLR p-value:                 3.958e-17\n",
      "==============================================================================\n",
      "                 coef    std err          z      P>|z|      [0.025      0.975]\n",
      "------------------------------------------------------------------------------\n",
      "grades        -0.0978      0.016     -6.263      0.000      -0.128      -0.067\n",
      "faminc         0.0125      0.002      7.774      0.000       0.009       0.016\n",
      "famsiz         0.1868      0.029      6.486      0.000       0.130       0.243\n",
      "==============================================================================\n"
     ]
    }
   ],
   "source": [
    "# Statsmodels \n",
    "probit1 = sm.Probit(Y1,X1)\n",
    "result1 = probit1.fit()\n",
    "print (result1.summary())"
   ]
  },
  {
   "cell_type": "code",
   "execution_count": 108,
   "metadata": {},
   "outputs": [],
   "source": [
    "# signs and significance of remaining variables are not affected"
   ]
  },
  {
   "cell_type": "code",
   "execution_count": null,
   "metadata": {},
   "outputs": [],
   "source": []
  }
 ],
 "metadata": {
  "kernelspec": {
   "display_name": "Python 3",
   "language": "python",
   "name": "python3"
  },
  "language_info": {
   "codemirror_mode": {
    "name": "ipython",
    "version": 3
   },
   "file_extension": ".py",
   "mimetype": "text/x-python",
   "name": "python",
   "nbconvert_exporter": "python",
   "pygments_lexer": "ipython3",
   "version": "3.7.1"
  }
 },
 "nbformat": 4,
 "nbformat_minor": 2
}
