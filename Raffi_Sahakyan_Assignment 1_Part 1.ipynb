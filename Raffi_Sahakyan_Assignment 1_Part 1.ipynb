{
 "cells": [
  {
   "cell_type": "code",
   "execution_count": 1,
   "metadata": {},
   "outputs": [],
   "source": [
    "import numpy as np\n",
    "import pandas as pd\n",
    "from numpy.random import randn\n",
    "from pandas import Series, DataFrame\n",
    "from scipy import stats\n",
    "import matplotlib as mpl\n",
    "import matplotlib.pyplot as plt\n",
    "import seaborn as sns\n",
    "sns.set_style('whitegrid')\n",
    "\n",
    "%matplotlib inline"
   ]
  },
  {
   "cell_type": "code",
   "execution_count": 2,
   "metadata": {},
   "outputs": [],
   "source": [
    "import os\n",
    "import sys\n",
    "pd.core.common.is_list_like = pd.api.types.is_list_like\n",
    "import pandas_datareader.data as web\n",
    "\n",
    "import statsmodels.formula.api as smf\n",
    "import statsmodels.tsa.api as smt\n",
    "import statsmodels.api as sm\n",
    "import statsmodels.tsa.stattools as smtools\n",
    "import scipy.stats as scs\n",
    "from arch import arch_model\n",
    "from statsmodels.tsa.stattools import adfuller\n",
    "from pandas.tools.plotting import autocorrelation_plot\n",
    "from statsmodels.graphics.tsaplots import plot_acf\n",
    "from statsmodels.graphics.tsaplots import plot_pacf\n",
    "from statsmodels.tsa.arima_model import ARIMA\n",
    "from pmdarima.arima import auto_arima\n",
    "import statsmodels.api as sm\n",
    "\n"
   ]
  },
  {
   "cell_type": "code",
   "execution_count": 3,
   "metadata": {},
   "outputs": [],
   "source": [
    "# I modified the data in excel, so I can have the year and the month in one column\n",
    "data=pd.read_excel(\"Armenia_GDP.xlsx\")"
   ]
  },
  {
   "cell_type": "code",
   "execution_count": 4,
   "metadata": {},
   "outputs": [
    {
     "data": {
      "text/html": [
       "<div>\n",
       "<style scoped>\n",
       "    .dataframe tbody tr th:only-of-type {\n",
       "        vertical-align: middle;\n",
       "    }\n",
       "\n",
       "    .dataframe tbody tr th {\n",
       "        vertical-align: top;\n",
       "    }\n",
       "\n",
       "    .dataframe thead th {\n",
       "        text-align: right;\n",
       "    }\n",
       "</style>\n",
       "<table border=\"1\" class=\"dataframe\">\n",
       "  <thead>\n",
       "    <tr style=\"text-align: right;\">\n",
       "      <th></th>\n",
       "      <th>Date</th>\n",
       "      <th>Previous_m</th>\n",
       "    </tr>\n",
       "  </thead>\n",
       "  <tbody>\n",
       "    <tr>\n",
       "      <th>0</th>\n",
       "      <td>01/2010</td>\n",
       "      <td>102.169439</td>\n",
       "    </tr>\n",
       "    <tr>\n",
       "      <th>1</th>\n",
       "      <td>02/2010</td>\n",
       "      <td>102.649660</td>\n",
       "    </tr>\n",
       "    <tr>\n",
       "      <th>2</th>\n",
       "      <td>03/2010</td>\n",
       "      <td>106.946553</td>\n",
       "    </tr>\n",
       "    <tr>\n",
       "      <th>3</th>\n",
       "      <td>04/2010</td>\n",
       "      <td>112.739064</td>\n",
       "    </tr>\n",
       "    <tr>\n",
       "      <th>4</th>\n",
       "      <td>05/2010</td>\n",
       "      <td>107.197163</td>\n",
       "    </tr>\n",
       "  </tbody>\n",
       "</table>\n",
       "</div>"
      ],
      "text/plain": [
       "      Date  Previous_m\n",
       "0  01/2010  102.169439\n",
       "1  02/2010  102.649660\n",
       "2  03/2010  106.946553\n",
       "3  04/2010  112.739064\n",
       "4  05/2010  107.197163"
      ]
     },
     "execution_count": 4,
     "metadata": {},
     "output_type": "execute_result"
    }
   ],
   "source": [
    "data.head()"
   ]
  },
  {
   "cell_type": "code",
   "execution_count": 5,
   "metadata": {},
   "outputs": [],
   "source": [
    "#Create data index\n",
    "data.set_index('Date',inplace=True)"
   ]
  },
  {
   "cell_type": "code",
   "execution_count": 6,
   "metadata": {},
   "outputs": [
    {
     "data": {
      "text/html": [
       "<div>\n",
       "<style scoped>\n",
       "    .dataframe tbody tr th:only-of-type {\n",
       "        vertical-align: middle;\n",
       "    }\n",
       "\n",
       "    .dataframe tbody tr th {\n",
       "        vertical-align: top;\n",
       "    }\n",
       "\n",
       "    .dataframe thead th {\n",
       "        text-align: right;\n",
       "    }\n",
       "</style>\n",
       "<table border=\"1\" class=\"dataframe\">\n",
       "  <thead>\n",
       "    <tr style=\"text-align: right;\">\n",
       "      <th></th>\n",
       "      <th>Previous_m</th>\n",
       "    </tr>\n",
       "    <tr>\n",
       "      <th>Date</th>\n",
       "      <th></th>\n",
       "    </tr>\n",
       "  </thead>\n",
       "  <tbody>\n",
       "    <tr>\n",
       "      <th>01/2010</th>\n",
       "      <td>102.169439</td>\n",
       "    </tr>\n",
       "    <tr>\n",
       "      <th>02/2010</th>\n",
       "      <td>102.649660</td>\n",
       "    </tr>\n",
       "    <tr>\n",
       "      <th>03/2010</th>\n",
       "      <td>106.946553</td>\n",
       "    </tr>\n",
       "    <tr>\n",
       "      <th>04/2010</th>\n",
       "      <td>112.739064</td>\n",
       "    </tr>\n",
       "    <tr>\n",
       "      <th>05/2010</th>\n",
       "      <td>107.197163</td>\n",
       "    </tr>\n",
       "  </tbody>\n",
       "</table>\n",
       "</div>"
      ],
      "text/plain": [
       "         Previous_m\n",
       "Date               \n",
       "01/2010  102.169439\n",
       "02/2010  102.649660\n",
       "03/2010  106.946553\n",
       "04/2010  112.739064\n",
       "05/2010  107.197163"
      ]
     },
     "execution_count": 6,
     "metadata": {},
     "output_type": "execute_result"
    }
   ],
   "source": [
    "data.head()"
   ]
  },
  {
   "cell_type": "code",
   "execution_count": 7,
   "metadata": {},
   "outputs": [
    {
     "data": {
      "image/png": "[encoded data removed]",
      "text/plain": [
       "<Figure size 432x288 with 1 Axes>"
      ]
     },
     "metadata": {
      "needs_background": "light"
     },
     "output_type": "display_data"
    }
   ],
   "source": [
    "data['Previous_m'].plot()\n",
    "plt.show()"
   ]
  },
  {
   "cell_type": "code",
   "execution_count": 8,
   "metadata": {},
   "outputs": [],
   "source": [
    "# from the plot we can observe some seasonal patterns"
   ]
  },
  {
   "cell_type": "code",
   "execution_count": 9,
   "metadata": {},
   "outputs": [
    {
     "data": {
      "image/png": "[encoded data removed]",
      "text/plain": [
       "<Figure size 432x288 with 1 Axes>"
      ]
     },
     "execution_count": 9,
     "metadata": {},
     "output_type": "execute_result"
    },
    {
     "data": {
      "image/png": "[encoded data removed]",
      "text/plain": [
       "<Figure size 432x288 with 1 Axes>"
      ]
     },
     "metadata": {
      "needs_background": "light"
     },
     "output_type": "display_data"
    }
   ],
   "source": [
    "plot_acf(data,lags=15)"
   ]
  },
  {
   "cell_type": "code",
   "execution_count": 10,
   "metadata": {},
   "outputs": [
    {
     "data": {
      "image/png": "[encoded data removed]",
      "text/plain": [
       "<Figure size 432x288 with 1 Axes>"
      ]
     },
     "execution_count": 10,
     "metadata": {},
     "output_type": "execute_result"
    },
    {
     "data": {
      "image/png": "[encoded data removed]",
      "text/plain": [
       "<Figure size 432x288 with 1 Axes>"
      ]
     },
     "metadata": {
      "needs_background": "light"
     },
     "output_type": "display_data"
    }
   ],
   "source": [
    "diff = data.diff(periods=1)\n",
    "diff.dropna(inplace=True)\n",
    "plot_acf(diff,lags=15)"
   ]
  },
  {
   "cell_type": "code",
   "execution_count": 11,
   "metadata": {},
   "outputs": [
    {
     "data": {
      "image/png": "[encoded data removed]",
      "text/plain": [
       "<Figure size 432x288 with 1 Axes>"
      ]
     },
     "execution_count": 11,
     "metadata": {},
     "output_type": "execute_result"
    },
    {
     "data": {
      "image/png": "[encoded data removed]",
      "text/plain": [
       "<Figure size 432x288 with 1 Axes>"
      ]
     },
     "metadata": {
      "needs_background": "light"
     },
     "output_type": "display_data"
    }
   ],
   "source": [
    "diff2 = data.diff(periods=2)\n",
    "diff2.dropna(inplace=True)\n",
    "plot_acf(diff,lags=15)"
   ]
  },
  {
   "cell_type": "code",
   "execution_count": 12,
   "metadata": {},
   "outputs": [
    {
     "name": "stdout",
     "output_type": "stream",
     "text": [
      "Previous_m    4.197378\n",
      "dtype: float64\n"
     ]
    }
   ],
   "source": [
    "print (data.std())"
   ]
  },
  {
   "cell_type": "code",
   "execution_count": 13,
   "metadata": {},
   "outputs": [
    {
     "name": "stdout",
     "output_type": "stream",
     "text": [
      "Previous_m    4.113776\n",
      "dtype: float64\n"
     ]
    }
   ],
   "source": [
    "print (diff.std())"
   ]
  },
  {
   "cell_type": "code",
   "execution_count": 14,
   "metadata": {},
   "outputs": [
    {
     "name": "stdout",
     "output_type": "stream",
     "text": [
      "Previous_m    4.744623\n",
      "dtype: float64\n"
     ]
    }
   ],
   "source": [
    "print (diff2.std())"
   ]
  },
  {
   "cell_type": "code",
   "execution_count": 15,
   "metadata": {},
   "outputs": [],
   "source": [
    "# no need to differentiate further, as std increases from second differencing"
   ]
  },
  {
   "cell_type": "code",
   "execution_count": 16,
   "metadata": {},
   "outputs": [
    {
     "data": {
      "image/png": "[encoded data removed]",
      "text/plain": [
       "<Figure size 432x288 with 1 Axes>"
      ]
     },
     "metadata": {
      "needs_background": "light"
     },
     "output_type": "display_data"
    }
   ],
   "source": [
    "diff.plot()\n",
    "plt.show()"
   ]
  },
  {
   "cell_type": "markdown",
   "metadata": {},
   "source": [
    "## Identifying AR and MA signatures"
   ]
  },
  {
   "cell_type": "code",
   "execution_count": 17,
   "metadata": {},
   "outputs": [
    {
     "data": {
      "image/png": "[encoded data removed]",
      "text/plain": [
       "<Figure size 432x288 with 1 Axes>"
      ]
     },
     "execution_count": 17,
     "metadata": {},
     "output_type": "execute_result"
    },
    {
     "data": {
      "image/png": "[encoded data removed]",
      "text/plain": [
       "<Figure size 432x288 with 1 Axes>"
      ]
     },
     "metadata": {
      "needs_background": "light"
     },
     "output_type": "display_data"
    },
    {
     "data": {
      "image/png": "[encoded data removed]",
      "text/plain": [
       "<Figure size 432x288 with 1 Axes>"
      ]
     },
     "metadata": {
      "needs_background": "light"
     },
     "output_type": "display_data"
    }
   ],
   "source": [
    "# plot ACF & PACF for determining AR & MA terms\n",
    "plot_acf(diff,lags=15)\n",
    "plot_pacf(diff,lags=15)"
   ]
  },
  {
   "cell_type": "code",
   "execution_count": 18,
   "metadata": {},
   "outputs": [],
   "source": [
    "# ACF of the data displays a sharp cutoff & the lag-1 is negative, so it has an MA signature (\"overdifferencing\"), \n",
    "# so we can add an MA(1) term to the model, as 1 is the lag at which the ACF cuts off\n"
   ]
  },
  {
   "cell_type": "markdown",
   "metadata": {},
   "source": [
    "## ARIMA"
   ]
  },
  {
   "cell_type": "code",
   "execution_count": 19,
   "metadata": {},
   "outputs": [
    {
     "name": "stdout",
     "output_type": "stream",
     "text": [
      "                             ARIMA Model Results                              \n",
      "==============================================================================\n",
      "Dep. Variable:           D.Previous_m   No. Observations:                   96\n",
      "Model:                 ARIMA(0, 1, 1)   Log Likelihood                -264.626\n",
      "Method:                       css-mle   S.D. of innovations              3.805\n",
      "Date:                Sat, 09 Mar 2019   AIC                            535.253\n",
      "Time:                        23:22:52   BIC                            542.946\n",
      "Sample:                    02-01-2010   HQIC                           538.362\n",
      "                         - 01-01-2018                                         \n",
      "======================================================================================\n",
      "                         coef    std err          z      P>|z|      [0.025      0.975]\n",
      "--------------------------------------------------------------------------------------\n",
      "const                  0.0777      0.213      0.364      0.716      -0.340       0.495\n",
      "ma.L1.D.Previous_m    -0.4562      0.135     -3.368      0.001      -0.722      -0.191\n",
      "                                    Roots                                    \n",
      "=============================================================================\n",
      "                  Real          Imaginary           Modulus         Frequency\n",
      "-----------------------------------------------------------------------------\n",
      "MA.1            2.1922           +0.0000j            2.1922            0.0000\n",
      "-----------------------------------------------------------------------------\n"
     ]
    },
    {
     "name": "stderr",
     "output_type": "stream",
     "text": [
      "/anaconda3/lib/python3.7/site-packages/statsmodels/tsa/base/tsa_model.py:171: ValueWarning: No frequency information was provided, so inferred frequency MS will be used.\n",
      "  % freq, ValueWarning)\n",
      "/anaconda3/lib/python3.7/site-packages/statsmodels/tsa/base/tsa_model.py:171: ValueWarning: No frequency information was provided, so inferred frequency MS will be used.\n",
      "  % freq, ValueWarning)\n"
     ]
    },
    {
     "data": {
      "image/png": "[encoded data removed]",
      "text/plain": [
       "<Figure size 432x288 with 1 Axes>"
      ]
     },
     "metadata": {
      "needs_background": "light"
     },
     "output_type": "display_data"
    },
    {
     "name": "stdout",
     "output_type": "stream",
     "text": [
      "               0\n",
      "count  96.000000\n",
      "mean    0.019766\n",
      "std     3.826710\n",
      "min   -12.391203\n",
      "25%    -2.137055\n",
      "50%    -0.167671\n",
      "75%     2.039764\n",
      "max    12.914508\n"
     ]
    }
   ],
   "source": [
    "# fit model\n",
    "model = ARIMA(data, order=(0,1,1))\n",
    "model_fit = model.fit(disp=0)\n",
    "print(model_fit.summary())\n",
    "# plot residual errors\n",
    "residuals = DataFrame(model_fit.resid)\n",
    "residuals.plot()\n",
    "plt.show()\n",
    "print(residuals.describe())"
   ]
  },
  {
   "cell_type": "code",
   "execution_count": 20,
   "metadata": {},
   "outputs": [],
   "source": [
    "# the model does performs well, as std decreased and it has significant MA coefficient"
   ]
  },
  {
   "cell_type": "code",
   "execution_count": 21,
   "metadata": {},
   "outputs": [
    {
     "name": "stdout",
     "output_type": "stream",
     "text": [
      "Fit ARIMA: order=(1, 1, 1); AIC=528.965, BIC=539.222, Fit time=0.122 seconds\n",
      "Fit ARIMA: order=(0, 1, 0); AIC=546.984, BIC=552.113, Fit time=0.009 seconds\n",
      "Fit ARIMA: order=(1, 1, 0); AIC=537.270, BIC=544.963, Fit time=0.024 seconds\n",
      "Fit ARIMA: order=(0, 1, 1); AIC=535.253, BIC=542.946, Fit time=0.022 seconds\n"
     ]
    },
    {
     "name": "stderr",
     "output_type": "stream",
     "text": [
      "/anaconda3/lib/python3.7/site-packages/scipy/signal/signaltools.py:1341: FutureWarning: Using a non-tuple sequence for multidimensional indexing is deprecated; use `arr[tuple(seq)]` instead of `arr[seq]`. In the future this will be interpreted as an array index, `arr[np.array(seq)]`, which will result either in an error or a different result.\n",
      "  out_full[ind] += zi\n",
      "/anaconda3/lib/python3.7/site-packages/scipy/signal/signaltools.py:1344: FutureWarning: Using a non-tuple sequence for multidimensional indexing is deprecated; use `arr[tuple(seq)]` instead of `arr[seq]`. In the future this will be interpreted as an array index, `arr[np.array(seq)]`, which will result either in an error or a different result.\n",
      "  out = out_full[ind]\n",
      "/anaconda3/lib/python3.7/site-packages/scipy/signal/signaltools.py:1350: FutureWarning: Using a non-tuple sequence for multidimensional indexing is deprecated; use `arr[tuple(seq)]` instead of `arr[seq]`. In the future this will be interpreted as an array index, `arr[np.array(seq)]`, which will result either in an error or a different result.\n",
      "  zf = out_full[ind]\n"
     ]
    },
    {
     "name": "stdout",
     "output_type": "stream",
     "text": [
      "Fit ARIMA: order=(2, 1, 1); AIC=529.185, BIC=542.007, Fit time=0.252 seconds\n",
      "Fit ARIMA: order=(1, 1, 2); AIC=nan, BIC=nan, Fit time=nan seconds\n",
      "Fit ARIMA: order=(2, 1, 2); AIC=530.713, BIC=546.099, Fit time=0.225 seconds\n",
      "Total fit time: 0.677 seconds\n"
     ]
    },
    {
     "data": {
      "text/html": [
       "<table class=\"simpletable\">\n",
       "<caption>ARIMA Model Results</caption>\n",
       "<tr>\n",
       "  <th>Dep. Variable:</th>        <td>D.y</td>       <th>  No. Observations:  </th>    <td>96</td>   \n",
       "</tr>\n",
       "<tr>\n",
       "  <th>Model:</th>          <td>ARIMA(1, 1, 1)</td>  <th>  Log Likelihood     </th> <td>-260.482</td>\n",
       "</tr>\n",
       "<tr>\n",
       "  <th>Method:</th>             <td>css-mle</td>     <th>  S.D. of innovations</th>   <td>3.585</td> \n",
       "</tr>\n",
       "<tr>\n",
       "  <th>Date:</th>          <td>Sat, 09 Mar 2019</td> <th>  AIC                </th>  <td>528.965</td>\n",
       "</tr>\n",
       "<tr>\n",
       "  <th>Time:</th>              <td>23:22:53</td>     <th>  BIC                </th>  <td>539.222</td>\n",
       "</tr>\n",
       "<tr>\n",
       "  <th>Sample:</th>                <td>1</td>        <th>  HQIC               </th>  <td>533.111</td>\n",
       "</tr>\n",
       "<tr>\n",
       "  <th></th>                       <td> </td>        <th>                     </th>     <td> </td>   \n",
       "</tr>\n",
       "</table>\n",
       "<table class=\"simpletable\">\n",
       "<tr>\n",
       "      <td></td>         <th>coef</th>     <th>std err</th>      <th>z</th>      <th>P>|z|</th>  <th>[0.025</th>    <th>0.975]</th>  \n",
       "</tr>\n",
       "<tr>\n",
       "  <th>const</th>     <td>    0.0104</td> <td>    0.027</td> <td>    0.384</td> <td> 0.702</td> <td>   -0.043</td> <td>    0.063</td>\n",
       "</tr>\n",
       "<tr>\n",
       "  <th>ar.L1.D.y</th> <td>    0.5356</td> <td>    0.089</td> <td>    6.030</td> <td> 0.000</td> <td>    0.362</td> <td>    0.710</td>\n",
       "</tr>\n",
       "<tr>\n",
       "  <th>ma.L1.D.y</th> <td>   -1.0000</td> <td>    0.037</td> <td>  -27.335</td> <td> 0.000</td> <td>   -1.072</td> <td>   -0.928</td>\n",
       "</tr>\n",
       "</table>\n",
       "<table class=\"simpletable\">\n",
       "<caption>Roots</caption>\n",
       "<tr>\n",
       "    <td></td>   <th>            Real</th>  <th>         Imaginary</th> <th>         Modulus</th>  <th>        Frequency</th>\n",
       "</tr>\n",
       "<tr>\n",
       "  <th>AR.1</th> <td>           1.8670</td> <td>          +0.0000j</td> <td>           1.8670</td> <td>           0.0000</td>\n",
       "</tr>\n",
       "<tr>\n",
       "  <th>MA.1</th> <td>           1.0000</td> <td>          +0.0000j</td> <td>           1.0000</td> <td>           0.0000</td>\n",
       "</tr>\n",
       "</table>"
      ],
      "text/plain": [
       "<class 'statsmodels.iolib.summary.Summary'>\n",
       "\"\"\"\n",
       "                             ARIMA Model Results                              \n",
       "==============================================================================\n",
       "Dep. Variable:                    D.y   No. Observations:                   96\n",
       "Model:                 ARIMA(1, 1, 1)   Log Likelihood                -260.482\n",
       "Method:                       css-mle   S.D. of innovations              3.585\n",
       "Date:                Sat, 09 Mar 2019   AIC                            528.965\n",
       "Time:                        23:22:53   BIC                            539.222\n",
       "Sample:                             1   HQIC                           533.111\n",
       "                                                                              \n",
       "==============================================================================\n",
       "                 coef    std err          z      P>|z|      [0.025      0.975]\n",
       "------------------------------------------------------------------------------\n",
       "const          0.0104      0.027      0.384      0.702      -0.043       0.063\n",
       "ar.L1.D.y      0.5356      0.089      6.030      0.000       0.362       0.710\n",
       "ma.L1.D.y     -1.0000      0.037    -27.335      0.000      -1.072      -0.928\n",
       "                                    Roots                                    \n",
       "=============================================================================\n",
       "                  Real          Imaginary           Modulus         Frequency\n",
       "-----------------------------------------------------------------------------\n",
       "AR.1            1.8670           +0.0000j            1.8670            0.0000\n",
       "MA.1            1.0000           +0.0000j            1.0000            0.0000\n",
       "-----------------------------------------------------------------------------\n",
       "\"\"\""
      ]
     },
     "execution_count": 21,
     "metadata": {},
     "output_type": "execute_result"
    }
   ],
   "source": [
    "# check with autoarima\n",
    "stepwise_fit = auto_arima(data, start_p=1, start_q=1, max_p=3, max_q=3, m=12,\n",
    "                          start_P=0, seasonal=False, d=1, D=1, trace=True,\n",
    "                          error_action='ignore',  \n",
    "                          suppress_warnings=True,  \n",
    "                          stepwise=True)  \n",
    "\n",
    "stepwise_fit.summary()"
   ]
  },
  {
   "cell_type": "markdown",
   "metadata": {},
   "source": [
    "#### From the results summary, we can see that ARIMA (1,1,1) minimizes both AIC & BIC. ARIMA (2,1,1) provides the second most appealing results, however, it contradicts with my insight about ARIMA (0,1,1) and overall complicates the model. Therefore, if I would proceed with ARIMA, I will choose ARIMA (0,1,1) as itis more intuitive and has more or less similar scores of AIC & BIC."
   ]
  },
  {
   "cell_type": "markdown",
   "metadata": {},
   "source": [
    "## SARIMA"
   ]
  },
  {
   "cell_type": "code",
   "execution_count": 22,
   "metadata": {},
   "outputs": [
    {
     "name": "stderr",
     "output_type": "stream",
     "text": [
      "/anaconda3/lib/python3.7/site-packages/statsmodels/tsa/base/tsa_model.py:171: ValueWarning: No frequency information was provided, so inferred frequency MS will be used.\n",
      "  % freq, ValueWarning)\n"
     ]
    }
   ],
   "source": [
    "# try to include seasonality effect\n",
    "\n",
    "my_order=(0,1,1) \n",
    "my_seasonal_order = (0, 1, 0, 12)\n",
    "model_s=sm.tsa.statespace.SARIMAX(data, order=my_order, seasonal_order=my_seasonal_order)"
   ]
  },
  {
   "cell_type": "code",
   "execution_count": 23,
   "metadata": {},
   "outputs": [
    {
     "name": "stdout",
     "output_type": "stream",
     "text": [
      "                                 Statespace Model Results                                 \n",
      "==========================================================================================\n",
      "Dep. Variable:                         Previous_m   No. Observations:                   97\n",
      "Model:             SARIMAX(0, 1, 1)x(0, 1, 0, 12)   Log Likelihood                -256.281\n",
      "Date:                            Sat, 09 Mar 2019   AIC                            516.562\n",
      "Time:                                    23:22:53   BIC                            521.424\n",
      "Sample:                                01-01-2010   HQIC                           518.516\n",
      "                                     - 01-01-2018                                         \n",
      "Covariance Type:                              opg                                         \n",
      "==============================================================================\n",
      "                 coef    std err          z      P>|z|      [0.025      0.975]\n",
      "------------------------------------------------------------------------------\n",
      "ma.L1         -0.5358      0.083     -6.438      0.000      -0.699      -0.373\n",
      "sigma2        26.0496      2.920      8.921      0.000      20.326      31.773\n",
      "===================================================================================\n",
      "Ljung-Box (Q):                       44.34   Jarque-Bera (JB):                14.91\n",
      "Prob(Q):                              0.29   Prob(JB):                         0.00\n",
      "Heteroskedasticity (H):               1.07   Skew:                             0.54\n",
      "Prob(H) (two-sided):                  0.86   Kurtosis:                         4.76\n",
      "===================================================================================\n",
      "\n",
      "Warnings:\n",
      "[1] Covariance matrix calculated using the outer product of gradients (complex-step).\n"
     ]
    },
    {
     "name": "stderr",
     "output_type": "stream",
     "text": [
      "/anaconda3/lib/python3.7/site-packages/statsmodels/tsa/statespace/representation.py:375: FutureWarning: Using a non-tuple sequence for multidimensional indexing is deprecated; use `arr[tuple(seq)]` instead of `arr[seq]`. In the future this will be interpreted as an array index, `arr[np.array(seq)]`, which will result either in an error or a different result.\n",
      "  return matrix[[slice(None)]*(matrix.ndim-1) + [0]]\n"
     ]
    },
    {
     "data": {
      "image/png": "[encoded data removed]",
      "text/plain": [
       "<Figure size 432x288 with 1 Axes>"
      ]
     },
     "metadata": {
      "needs_background": "light"
     },
     "output_type": "display_data"
    },
    {
     "name": "stdout",
     "output_type": "stream",
     "text": [
      "                0\n",
      "count   97.000000\n",
      "mean     0.655201\n",
      "std     12.450125\n",
      "min    -43.128425\n",
      "25%     -3.136720\n",
      "50%      0.314169\n",
      "75%      3.428411\n",
      "max    102.169439\n"
     ]
    }
   ],
   "source": [
    "#fit model\n",
    "model_s_fit = model_s.fit(disp=0)\n",
    "print(model_s_fit.summary())\n",
    "# plot residual errors\n",
    "residuals_s = DataFrame(model_s_fit.resid)\n",
    "residuals_s.plot()\n",
    "plt.show()\n",
    "print(residuals_s.describe())"
   ]
  },
  {
   "cell_type": "code",
   "execution_count": 24,
   "metadata": {},
   "outputs": [],
   "source": [
    "# the model provides mixed results, as overall AIC & BIC have decreased, yet std deviation increased significantly"
   ]
  },
  {
   "cell_type": "code",
   "execution_count": 25,
   "metadata": {},
   "outputs": [],
   "source": [
    "# Therefore, I decided to do Grid Search, for finding the best parameters for SARIMA"
   ]
  },
  {
   "cell_type": "markdown",
   "metadata": {},
   "source": [
    "### Grid Search SARIMA"
   ]
  },
  {
   "cell_type": "code",
   "execution_count": 26,
   "metadata": {},
   "outputs": [],
   "source": [
    "# grid search sarima hyperparameters\n",
    "from math import sqrt\n",
    "from multiprocessing import cpu_count\n",
    "from joblib import Parallel\n",
    "from joblib import delayed\n",
    "from warnings import catch_warnings\n",
    "from warnings import filterwarnings\n",
    "from statsmodels.tsa.statespace.sarimax import SARIMAX\n",
    "from sklearn.metrics import mean_squared_error"
   ]
  },
  {
   "cell_type": "code",
   "execution_count": 27,
   "metadata": {},
   "outputs": [],
   "source": [
    "def sarima_forecast(history, config):\n",
    "    order, sorder, trend = config\n",
    "\n",
    "    model = SARIMAX(history, order=order, seasonal_order=sorder, trend=trend, enforce_stationarity=True, \n",
    "                    enforce_invertibility=False)\n",
    "    model_fit = model.fit(disp=0)\n",
    "# make one step forecast\n",
    "    yhat = model_fit.predict(len(history), len(history))\n",
    "    return yhat[0]\n"
   ]
  },
  {
   "cell_type": "code",
   "execution_count": 28,
   "metadata": {},
   "outputs": [],
   "source": [
    "# split a dataset into train/test sets\n",
    "def train_test_split(data, n_test):\n",
    "    return data[:-n_test], data[-n_test:]"
   ]
  },
  {
   "cell_type": "code",
   "execution_count": 29,
   "metadata": {},
   "outputs": [],
   "source": [
    "# root mean squared error or rmse\n",
    "def measure_rmse(actual, predicted):\n",
    "        return sqrt(mean_squared_error(actual, predicted))"
   ]
  },
  {
   "cell_type": "code",
   "execution_count": 30,
   "metadata": {},
   "outputs": [],
   "source": [
    "# walk-forward validation for data\n",
    "def walk_forward_validation(data, n_test, cfg):\n",
    "    predictions = list()\n",
    "    # split dataset\n",
    "    train, test = train_test_split(data, n_test)\n",
    "    # seed history with training dataset\n",
    "    history = [x for x in train]\n",
    "    # step over each time-step in the test set\n",
    "    for i in range(len(test)):\n",
    "        # fit model and make forecast for history\n",
    "        yhat = sarima_forecast(history, cfg)\n",
    "        # store forecast in list of predictions\n",
    "        predictions.append(yhat)\n",
    "        # add actual observation to history for the next loop\n",
    "        history.append(test[i])\n",
    "    # estimate prediction error\n",
    "    error = measure_rmse(test, predictions)\n",
    "    return error\n"
   ]
  },
  {
   "cell_type": "code",
   "execution_count": 31,
   "metadata": {},
   "outputs": [],
   "source": [
    "# score a model, return None on failure\n",
    "def score_model(data, n_test, cfg, debug=False):\n",
    "    result = None\n",
    "    # convert config to a key\n",
    "    key = str(cfg)\n",
    "    # show all warnings and fail on exception if debugging\n",
    "    if debug:\n",
    "        result = walk_forward_validation(data, n_test, cfg)\n",
    "    else:\n",
    "        # one failure during model validation suggests an unstable config\n",
    "        try:\n",
    "            # never show warnings when grid searching, too noisy\n",
    "            with catch_warnings():\n",
    "                filterwarnings(\"ignore\")\n",
    "                result = walk_forward_validation(data, n_test, cfg)\n",
    "        except:\n",
    "            error = None\n",
    "    # check for an interesting result\n",
    "    if result is not None:\n",
    "        print(' > Model[%s] %.3f' % (key, result))\n",
    "    return (key, result)\n"
   ]
  },
  {
   "cell_type": "code",
   "execution_count": 32,
   "metadata": {},
   "outputs": [],
   "source": [
    "# grid search configs\n",
    "def grid_search(data, cfg_list, n_test, parallel=True):\n",
    "    scores = None\n",
    "    if parallel:\n",
    "        # execute configs in parallel\n",
    "        executor = Parallel(n_jobs=cpu_count(), backend='multiprocessing')\n",
    "        tasks = (delayed(score_model)(data, n_test, cfg) for cfg in cfg_list)\n",
    "        scores = executor(tasks)\n",
    "    else:\n",
    "        scores = [score_model(data, n_test, cfg) for cfg in cfg_list]\n",
    "        # remove empty results\n",
    "    scores = [r for r in scores if r[1] != None]\n",
    "    # sort configs by error, asc\n",
    "    scores.sort(key=lambda tup: tup[1])\n",
    "    return scores\n"
   ]
  },
  {
   "cell_type": "code",
   "execution_count": 33,
   "metadata": {},
   "outputs": [],
   "source": [
    "def sarima_configs(seasonal=[0]):\n",
    "    models = list()\n",
    "    # define config lists\n",
    "    p_params = [0, 1]\n",
    "    d_params = [0, 1]\n",
    "    q_params = [0, 1]\n",
    "    t_params = ['n','c','t','ct']\n",
    "    P_params = [0, 1]\n",
    "    D_params = [0, 1]\n",
    "    Q_params = [0, 1]\n",
    "    # create config instances\n",
    "    for p in p_params:\n",
    "        for d in d_params:\n",
    "            for q in q_params:\n",
    "                for t in t_params:\n",
    "                    for P in P_params:\n",
    "                        for D in D_params:\n",
    "                            for Q in Q_params:\n",
    "                                cfg = [(p,d,q), (P,D,Q,12), t]\n",
    "                                models.append(cfg)\n",
    "    return models"
   ]
  },
  {
   "cell_type": "code",
   "execution_count": 34,
   "metadata": {
    "scrolled": true
   },
   "outputs": [
    {
     "name": "stderr",
     "output_type": "stream",
     "text": [
      "/anaconda3/lib/python3.7/site-packages/ipykernel_launcher.py:2: FutureWarning: Method .as_matrix will be removed in a future version. Use .values instead.\n",
      "  \n"
     ]
    },
    {
     "name": "stdout",
     "output_type": "stream",
     "text": [
      " > Model[[(0, 0, 0), (0, 0, 0, 12), 'n']] 112.188\n",
      " > Model[[(0, 0, 0), (0, 1, 0, 12), 'n']] 14.095\n",
      " > Model[[(0, 0, 0), (1, 1, 0, 12), 'n']] 12.773\n",
      " > Model[[(0, 0, 0), (0, 1, 1, 12), 'n']] 9.606\n",
      " > Model[[(0, 0, 0), (0, 0, 1, 12), 'n']] 63.360\n",
      " > Model[[(0, 0, 0), (0, 0, 0, 12), 'c']] 8.461\n",
      " > Model[[(0, 0, 0), (0, 1, 0, 12), 'c']] 13.716\n",
      " > Model[[(0, 0, 0), (1, 1, 1, 12), 'n']] 9.919\n",
      " > Model[[(0, 0, 0), (0, 1, 1, 12), 'c']] 9.848\n",
      " > Model[[(0, 0, 0), (0, 0, 1, 12), 'c']] 8.141\n",
      " > Model[[(0, 0, 0), (0, 0, 0, 12), 't']] 45.247\n",
      " > Model[[(0, 0, 0), (1, 1, 0, 12), 'c']] 12.575\n",
      " > Model[[(0, 0, 0), (1, 0, 1, 12), 'n']] 10.975\n",
      " > Model[[(0, 0, 0), (0, 0, 1, 12), 't']] 21.405\n",
      " > Model[[(0, 0, 0), (0, 1, 0, 12), 't']] 13.728\n",
      " > Model[[(0, 0, 0), (1, 1, 1, 12), 'c']] 10.037\n",
      " > Model[[(0, 0, 0), (1, 0, 1, 12), 'c']] 8.403\n",
      " > Model[[(0, 0, 0), (0, 0, 0, 12), 'ct']] 8.832\n",
      " > Model[[(0, 0, 0), (1, 1, 0, 12), 't']] 12.639\n",
      " > Model[[(0, 0, 0), (0, 1, 1, 12), 't']] 10.058\n",
      " > Model[[(0, 0, 0), (0, 0, 1, 12), 'ct']] 8.589\n",
      " > Model[[(0, 0, 0), (1, 0, 1, 12), 't']] 7.904\n",
      " > Model[[(0, 0, 0), (0, 1, 0, 12), 'ct']] 14.211\n",
      " > Model[[(0, 0, 0), (1, 1, 0, 12), 'ct']] 13.185\n",
      " > Model[[(0, 0, 0), (1, 1, 1, 12), 't']] 10.203\n",
      " > Model[[(0, 0, 1), (0, 0, 0, 12), 'n']] 55.129\n",
      " > Model[[(0, 0, 0), (1, 0, 1, 12), 'ct']] 8.694\n",
      " > Model[[(0, 0, 1), (0, 1, 0, 12), 'n']] 13.616\n",
      " > Model[[(0, 0, 0), (0, 1, 1, 12), 'ct']] 10.560\n",
      " > Model[[(0, 0, 1), (0, 0, 1, 12), 'n']] 30.561\n",
      " > Model[[(0, 0, 1), (0, 1, 1, 12), 'n']] 8.812\n",
      " > Model[[(0, 0, 1), (1, 1, 0, 12), 'n']] 11.589\n",
      " > Model[[(0, 0, 1), (0, 0, 0, 12), 'c']] 7.963\n",
      " > Model[[(0, 0, 1), (1, 1, 1, 12), 'n']] 9.091\n",
      " > Model[[(0, 0, 1), (0, 0, 1, 12), 'c']] 7.504\n",
      " > Model[[(0, 0, 1), (0, 1, 0, 12), 'c']] 13.432\n",
      " > Model[[(0, 0, 0), (1, 1, 1, 12), 'ct']] 10.695\n",
      " > Model[[(0, 0, 1), (1, 0, 1, 12), 'n']] 10.379\n",
      " > Model[[(0, 0, 1), (0, 1, 1, 12), 'c']] 8.980\n",
      " > Model[[(0, 0, 1), (1, 1, 0, 12), 'c']] 11.507\n",
      " > Model[[(0, 0, 1), (0, 0, 0, 12), 't']] 24.550\n",
      " > Model[[(0, 0, 1), (0, 1, 0, 12), 't']] 13.506\n",
      " > Model[[(0, 0, 1), (0, 0, 1, 12), 't']] 16.857\n",
      " > Model[[(0, 0, 1), (1, 1, 1, 12), 'c']] 9.135\n",
      " > Model[[(0, 0, 1), (1, 0, 1, 12), 'c']] 8.462\n",
      " > Model[[(0, 0, 1), (1, 1, 0, 12), 't']] 11.587\n",
      " > Model[[(0, 0, 1), (0, 1, 1, 12), 't']] 9.133\n",
      " > Model[[(0, 0, 1), (0, 0, 0, 12), 'ct']] 8.207\n",
      " > Model[[(0, 0, 1), (0, 1, 0, 12), 'ct']] 13.823\n",
      " > Model[[(0, 0, 1), (1, 0, 1, 12), 't']] 7.896\n",
      " > Model[[(0, 0, 1), (1, 1, 1, 12), 't']] 9.234\n",
      " > Model[[(0, 0, 1), (0, 0, 1, 12), 'ct']] 7.684\n",
      " > Model[[(0, 0, 1), (1, 1, 0, 12), 'ct']] 11.975\n",
      " > Model[[(0, 1, 0), (0, 0, 0, 12), 'n']] 8.628\n",
      " > Model[[(0, 1, 0), (0, 0, 1, 12), 'n']] 8.167\n",
      " > Model[[(0, 1, 0), (0, 1, 0, 12), 'n']] 14.965\n",
      " > Model[[(0, 1, 0), (0, 1, 1, 12), 'n']] 9.707\n",
      " > Model[[(0, 1, 0), (1, 0, 0, 12), 'n']] 8.281\n",
      " > Model[[(0, 1, 0), (1, 0, 1, 12), 'n']] 7.999\n",
      " > Model[[(0, 0, 1), (1, 0, 1, 12), 'ct']] 7.840\n",
      " > Model[[(0, 1, 0), (1, 1, 0, 12), 'n']] 11.952\n",
      " > Model[[(0, 1, 0), (0, 0, 0, 12), 'c']] 8.664\n",
      " > Model[[(0, 1, 0), (0, 0, 1, 12), 'c']] 8.201\n",
      " > Model[[(0, 1, 0), (0, 1, 0, 12), 'c']] 15.057\n",
      " > Model[[(0, 0, 1), (0, 1, 1, 12), 'ct']] 9.510\n",
      " > Model[[(0, 1, 0), (1, 1, 1, 12), 'n']] 9.969\n",
      " > Model[[(0, 1, 0), (1, 0, 0, 12), 'c']] 8.314\n",
      " > Model[[(0, 1, 0), (0, 1, 1, 12), 'c']] 9.834\n",
      " > Model[[(0, 1, 0), (1, 0, 1, 12), 'c']] 8.047\n",
      " > Model[[(0, 1, 0), (1, 1, 0, 12), 'c']] 12.037\n",
      " > Model[[(0, 1, 0), (0, 0, 0, 12), 't']] 8.753\n",
      " > Model[[(0, 0, 1), (1, 1, 1, 12), 'ct']] 9.583\n",
      " > Model[[(0, 1, 0), (0, 1, 0, 12), 't']] 15.211\n",
      " > Model[[(0, 1, 0), (0, 0, 1, 12), 't']] 8.279\n",
      " > Model[[(0, 1, 0), (1, 1, 1, 12), 'c']] 10.124\n",
      " > Model[[(0, 1, 0), (1, 0, 0, 12), 't']] 8.398\n",
      " > Model[[(0, 1, 0), (0, 1, 1, 12), 't']] 9.919\n",
      " > Model[[(0, 1, 0), (1, 1, 0, 12), 't']] 12.157\n",
      " > Model[[(0, 1, 0), (0, 0, 0, 12), 'ct']] 8.806\n",
      " > Model[[(0, 1, 0), (1, 0, 1, 12), 't']] 8.137\n",
      " > Model[[(0, 1, 0), (0, 1, 0, 12), 'ct']] 15.353\n",
      " > Model[[(0, 1, 0), (0, 0, 1, 12), 'ct']] 8.329\n",
      " > Model[[(0, 1, 0), (1, 0, 0, 12), 'ct']] 8.452\n",
      " > Model[[(0, 1, 0), (1, 1, 1, 12), 't']] 10.231\n",
      " > Model[[(0, 1, 0), (0, 1, 1, 12), 'ct']] 10.082\n",
      " > Model[[(0, 1, 1), (0, 0, 0, 12), 'n']] 7.078\n",
      " > Model[[(0, 1, 0), (1, 0, 1, 12), 'ct']] 8.496\n",
      " > Model[[(0, 1, 1), (0, 1, 0, 12), 'n']] 12.000\n",
      " > Model[[(0, 1, 1), (0, 0, 1, 12), 'n']] 7.074\n",
      " > Model[[(0, 1, 1), (1, 0, 0, 12), 'n']] 7.071\n",
      " > Model[[(0, 1, 0), (1, 1, 0, 12), 'ct']] 12.316\n",
      " > Model[[(0, 1, 1), (0, 1, 1, 12), 'n']] 7.699\n",
      " > Model[[(0, 1, 1), (1, 1, 0, 12), 'n']] 9.989\n",
      " > Model[[(0, 1, 1), (1, 0, 1, 12), 'n']] 6.874\n",
      " > Model[[(0, 1, 1), (0, 0, 0, 12), 'c']] 7.085\n",
      " > Model[[(0, 1, 1), (0, 0, 1, 12), 'c']] 7.073\n",
      " > Model[[(0, 1, 1), (0, 1, 0, 12), 'c']] 12.059\n",
      " > Model[[(0, 1, 1), (1, 1, 1, 12), 'n']] 7.813\n",
      " > Model[[(0, 1, 1), (1, 0, 0, 12), 'c']] 7.074\n",
      " > Model[[(0, 1, 1), (0, 1, 1, 12), 'c']] 7.757\n",
      " > Model[[(0, 1, 1), (1, 0, 1, 12), 'c']] 6.878\n",
      " > Model[[(0, 1, 1), (1, 1, 0, 12), 'c']] 10.053\n",
      " > Model[[(0, 1, 1), (0, 0, 0, 12), 't']] 7.126\n",
      " > Model[[(0, 1, 0), (1, 1, 1, 12), 'ct']] 10.421\n",
      " > Model[[(0, 1, 1), (0, 1, 0, 12), 't']] 12.161\n",
      " > Model[[(0, 1, 1), (1, 1, 1, 12), 'c']] 7.880\n",
      " > Model[[(0, 1, 1), (0, 0, 1, 12), 't']] 7.100\n",
      " > Model[[(0, 1, 1), (1, 0, 0, 12), 't']] 7.106\n",
      " > Model[[(0, 1, 1), (1, 0, 1, 12), 't']] 6.919\n",
      " > Model[[(0, 1, 1), (1, 1, 0, 12), 't']] 10.120\n",
      " > Model[[(0, 1, 1), (0, 1, 1, 12), 't']] 7.750\n",
      " > Model[[(0, 1, 1), (0, 0, 0, 12), 'ct']] 7.162\n",
      " > Model[[(0, 1, 1), (0, 1, 0, 12), 'ct']] 12.270\n",
      " > Model[[(0, 1, 1), (0, 0, 1, 12), 'ct']] 7.128\n",
      " > Model[[(0, 1, 1), (1, 1, 1, 12), 't']] 7.899\n",
      " > Model[[(0, 1, 1), (1, 0, 0, 12), 'ct']] 7.136\n",
      " > Model[[(0, 1, 1), (0, 1, 1, 12), 'ct']] 7.633\n",
      " > Model[[(0, 1, 1), (1, 0, 1, 12), 'ct']] 6.975\n",
      " > Model[[(1, 0, 0), (0, 1, 0, 12), 'n']] 13.014\n",
      " > Model[[(1, 0, 0), (1, 1, 0, 12), 'n']] 10.682\n",
      " > Model[[(1, 0, 0), (0, 1, 1, 12), 'n']] 8.468\n",
      " > Model[[(1, 0, 0), (0, 0, 0, 12), 'c']] 7.618\n",
      " > Model[[(0, 1, 1), (1, 1, 0, 12), 'ct']] 10.152\n",
      " > Model[[(1, 0, 0), (0, 1, 0, 12), 'c']] 12.956\n",
      " > Model[[(1, 0, 0), (1, 1, 1, 12), 'n']] 8.716\n",
      " > Model[[(1, 0, 0), (0, 1, 1, 12), 'c']] 8.505\n",
      " > Model[[(1, 0, 0), (0, 0, 1, 12), 'c']] 7.312\n",
      " > Model[[(1, 0, 0), (1, 1, 0, 12), 'c']] 10.669\n",
      " > Model[[(1, 0, 0), (0, 0, 0, 12), 't']] 8.731\n",
      " > Model[[(1, 0, 0), (1, 1, 1, 12), 'c']] 8.744\n",
      " > Model[[(0, 1, 1), (1, 1, 1, 12), 'ct']] 7.718\n",
      " > Model[[(1, 0, 0), (0, 1, 0, 12), 't']] 13.074\n",
      " > Model[[(1, 0, 0), (1, 0, 1, 12), 'c']] 7.663\n",
      " > Model[[(1, 0, 0), (0, 0, 1, 12), 't']] 8.241\n",
      " > Model[[(1, 0, 0), (0, 1, 1, 12), 't']] 8.607\n",
      " > Model[[(1, 0, 0), (1, 0, 1, 12), 't']] 8.758\n",
      " > Model[[(1, 0, 0), (0, 0, 0, 12), 'ct']] 7.763\n",
      " > Model[[(1, 0, 0), (1, 1, 0, 12), 't']] 10.764\n",
      " > Model[[(1, 0, 0), (0, 1, 0, 12), 'ct']] 13.280\n",
      " > Model[[(1, 0, 0), (0, 0, 1, 12), 'ct']] 7.492\n",
      " > Model[[(1, 0, 0), (0, 1, 1, 12), 'ct']] 8.896\n",
      " > Model[[(1, 0, 0), (1, 1, 1, 12), 't']] 8.810\n",
      " > Model[[(1, 0, 1), (0, 1, 0, 12), 'n']] 12.390\n",
      " > Model[[(1, 0, 0), (1, 0, 1, 12), 'ct']] 7.781\n",
      " > Model[[(1, 0, 0), (1, 1, 0, 12), 'ct']] 10.996\n",
      " > Model[[(1, 0, 1), (1, 1, 0, 12), 'n']] 10.349\n",
      " > Model[[(1, 0, 1), (0, 1, 1, 12), 'n']] 8.299\n",
      " > Model[[(1, 0, 1), (0, 0, 0, 12), 'c']] 7.523\n",
      " > Model[[(1, 0, 1), (0, 1, 0, 12), 'c']] 12.349\n",
      " > Model[[(1, 0, 1), (1, 1, 1, 12), 'n']] 8.533\n",
      " > Model[[(1, 0, 1), (0, 0, 1, 12), 'c']] 7.160\n",
      " > Model[[(1, 0, 1), (0, 1, 1, 12), 'c']] 8.321\n",
      " > Model[[(1, 0, 1), (1, 1, 0, 12), 'c']] 10.328\n",
      " > Model[[(1, 0, 0), (1, 1, 1, 12), 'ct']] 9.063\n",
      " > Model[[(1, 0, 1), (0, 0, 0, 12), 't']] 7.071\n",
      " > Model[[(1, 0, 1), (1, 1, 1, 12), 'c']] 8.548\n",
      " > Model[[(1, 0, 1), (0, 1, 0, 12), 't']] 12.456\n",
      " > Model[[(1, 0, 1), (1, 0, 1, 12), 'c']] 7.476\n",
      " > Model[[(1, 0, 1), (0, 0, 1, 12), 't']] 7.004\n",
      " > Model[[(1, 0, 1), (1, 0, 1, 12), 't']] 6.977\n",
      " > Model[[(1, 0, 1), (0, 0, 0, 12), 'ct']] 7.686\n",
      " > Model[[(1, 0, 1), (1, 1, 0, 12), 't']] 10.422\n",
      " > Model[[(1, 0, 1), (0, 1, 1, 12), 't']] 8.425\n",
      " > Model[[(1, 0, 1), (0, 1, 0, 12), 'ct']] 12.668\n",
      " > Model[[(1, 0, 1), (0, 0, 1, 12), 'ct']] 7.345\n",
      " > Model[[(1, 0, 1), (1, 1, 1, 12), 't']] 8.613\n",
      " > Model[[(1, 1, 0), (0, 0, 0, 12), 'n']] 7.373\n",
      " > Model[[(1, 1, 0), (0, 0, 1, 12), 'n']] 7.416\n",
      " > Model[[(1, 1, 0), (0, 1, 0, 12), 'n']] 12.075\n"
     ]
    },
    {
     "name": "stdout",
     "output_type": "stream",
     "text": [
      " > Model[[(1, 1, 0), (0, 1, 1, 12), 'n']] 8.372\n",
      " > Model[[(1, 1, 0), (1, 0, 0, 12), 'n']] 7.405\n",
      " > Model[[(1, 0, 1), (0, 1, 1, 12), 'ct']] 8.682\n",
      " > Model[[(1, 0, 1), (1, 1, 0, 12), 'ct']] 10.648\n",
      " > Model[[(1, 1, 0), (1, 1, 0, 12), 'n']] 10.191\n",
      " > Model[[(1, 1, 0), (0, 0, 0, 12), 'c']] 7.392\n",
      " > Model[[(1, 1, 0), (1, 0, 1, 12), 'n']] 7.162\n",
      " > Model[[(1, 1, 0), (0, 1, 0, 12), 'c']] 12.152\n",
      " > Model[[(1, 1, 0), (1, 1, 1, 12), 'n']] 8.569\n",
      " > Model[[(1, 1, 0), (0, 0, 1, 12), 'c']] 7.430\n",
      " > Model[[(1, 1, 0), (1, 0, 0, 12), 'c']] 7.421\n",
      " > Model[[(1, 1, 0), (0, 1, 1, 12), 'c']] 8.475\n",
      " > Model[[(1, 1, 0), (1, 0, 1, 12), 'c']] 7.183\n",
      " > Model[[(1, 1, 0), (1, 1, 0, 12), 'c']] 10.265\n",
      " > Model[[(1, 1, 0), (0, 0, 0, 12), 't']] 7.461\n",
      " > Model[[(1, 0, 1), (1, 1, 1, 12), 'ct']] 8.888\n",
      " > Model[[(1, 1, 0), (0, 1, 0, 12), 't']] 12.284\n",
      " > Model[[(1, 1, 0), (1, 1, 1, 12), 'c']] 8.695\n",
      " > Model[[(1, 1, 0), (0, 0, 1, 12), 't']] 7.485\n",
      " > Model[[(1, 1, 0), (1, 0, 0, 12), 't']] 7.481\n",
      " > Model[[(1, 1, 0), (1, 1, 0, 12), 't']] 10.362\n",
      " > Model[[(1, 1, 0), (1, 0, 1, 12), 't']] 7.250\n",
      " > Model[[(1, 1, 0), (0, 1, 1, 12), 't']] 8.531\n",
      " > Model[[(1, 1, 0), (0, 0, 0, 12), 'ct']] 7.508\n",
      " > Model[[(1, 1, 0), (0, 1, 0, 12), 'ct']] 12.413\n",
      " > Model[[(1, 1, 0), (0, 0, 1, 12), 'ct']] 7.527\n",
      " > Model[[(1, 1, 0), (1, 1, 1, 12), 't']] 8.773\n",
      " > Model[[(1, 1, 0), (1, 0, 0, 12), 'ct']] 7.523\n",
      " > Model[[(1, 1, 0), (0, 1, 1, 12), 'ct']] 8.624\n",
      " > Model[[(1, 1, 0), (1, 0, 1, 12), 'ct']] 7.612\n",
      " > Model[[(1, 1, 1), (0, 0, 0, 12), 'n']] 7.625\n",
      " > Model[[(1, 1, 1), (0, 1, 0, 12), 'n']] 12.875\n",
      " > Model[[(1, 1, 0), (1, 1, 0, 12), 'ct']] 10.480\n",
      " > Model[[(1, 1, 1), (0, 0, 1, 12), 'n']] 7.638\n",
      " > Model[[(1, 1, 1), (1, 0, 0, 12), 'n']] 7.610\n",
      " > Model[[(1, 1, 1), (0, 1, 1, 12), 'n']] 8.813\n",
      " > Model[[(1, 1, 1), (1, 0, 1, 12), 'n']] 7.310\n",
      " > Model[[(1, 1, 1), (1, 1, 0, 12), 'n']] 10.535\n",
      " > Model[[(1, 1, 0), (1, 1, 1, 12), 'ct']] 8.885\n",
      " > Model[[(1, 1, 1), (0, 0, 0, 12), 'c']] 7.765\n",
      " > Model[[(1, 1, 1), (1, 1, 1, 12), 'n']] 8.780\n",
      " > Model[[(1, 1, 1), (0, 1, 0, 12), 'c']] 13.004\n",
      " > Model[[(1, 1, 1), (0, 0, 1, 12), 'c']] 7.727\n",
      " > Model[[(1, 1, 1), (1, 0, 0, 12), 'c']] 7.703\n",
      " > Model[[(1, 1, 1), (0, 1, 1, 12), 'c']] 8.877\n",
      " > Model[[(1, 1, 1), (1, 1, 0, 12), 'c']] 10.599\n",
      " > Model[[(1, 1, 1), (1, 0, 1, 12), 'c']] 7.487\n",
      " > Model[[(1, 1, 1), (0, 0, 0, 12), 't']] 7.883\n",
      " > Model[[(1, 1, 1), (1, 1, 1, 12), 'c']] 8.850\n",
      " > Model[[(1, 1, 1), (0, 1, 0, 12), 't']] 12.769\n",
      " > Model[[(1, 1, 1), (0, 0, 1, 12), 't']] 7.797\n",
      " > Model[[(1, 1, 1), (1, 0, 0, 12), 't']] 7.774\n",
      " > Model[[(1, 1, 1), (0, 1, 1, 12), 't']] 8.861\n",
      " > Model[[(1, 1, 1), (1, 0, 1, 12), 't']] 7.597\n",
      " > Model[[(1, 1, 1), (0, 0, 0, 12), 'ct']] 8.095\n",
      " > Model[[(1, 1, 1), (1, 1, 0, 12), 't']] 10.631\n",
      " > Model[[(1, 1, 1), (1, 1, 1, 12), 't']] 8.848\n",
      " > Model[[(1, 1, 1), (0, 0, 1, 12), 'ct']] 8.117\n",
      " > Model[[(1, 1, 1), (0, 1, 0, 12), 'ct']] 12.407\n",
      " > Model[[(1, 1, 1), (1, 0, 0, 12), 'ct']] 8.075\n",
      " > Model[[(1, 1, 1), (0, 1, 1, 12), 'ct']] 8.605\n",
      " > Model[[(1, 1, 1), (1, 0, 1, 12), 'ct']] 7.709\n",
      " > Model[[(1, 1, 1), (1, 1, 0, 12), 'ct']] 10.378\n",
      " > Model[[(1, 1, 1), (1, 1, 1, 12), 'ct']] 8.513\n",
      "done\n",
      "[(0, 1, 1), (1, 0, 1, 12), 'n'] 6.873884061890424\n",
      "[(0, 1, 1), (1, 0, 1, 12), 'c'] 6.878476359518164\n",
      "[(0, 1, 1), (1, 0, 1, 12), 't'] 6.919294545072331\n"
     ]
    }
   ],
   "source": [
    "if __name__ == '__main__':\n",
    "    data = data.as_matrix()\n",
    "    # data split\n",
    "    n_test = 4\n",
    "    # model configs\n",
    "    cfg_list = sarima_configs()\n",
    "    # grid search\n",
    "    scores = grid_search(data, cfg_list, n_test)\n",
    "    print('done')\n",
    "    # list top 3 configs\n",
    "    for cfg, error in scores[:3]:\n",
    "        print(cfg, error)"
   ]
  },
  {
   "cell_type": "code",
   "execution_count": 35,
   "metadata": {},
   "outputs": [],
   "source": [
    "# Grid Search results\n",
    "my_order1=(0,1,1) \n",
    "my_seasonal_order1 = (1, 0, 1, 12)\n",
    "model_s1=sm.tsa.statespace.SARIMAX(data, order=my_order1, seasonal_order=my_seasonal_order1)"
   ]
  },
  {
   "cell_type": "code",
   "execution_count": 36,
   "metadata": {},
   "outputs": [
    {
     "name": "stdout",
     "output_type": "stream",
     "text": [
      "                                 Statespace Model Results                                 \n",
      "==========================================================================================\n",
      "Dep. Variable:                                  y   No. Observations:                   97\n",
      "Model:             SARIMAX(0, 1, 1)x(1, 0, 1, 12)   Log Likelihood                -264.052\n",
      "Date:                            Sat, 09 Mar 2019   AIC                            536.104\n",
      "Time:                                    23:41:27   BIC                            546.361\n",
      "Sample:                                         0   HQIC                           540.250\n",
      "                                             - 97                                         \n",
      "Covariance Type:                              opg                                         \n",
      "==============================================================================\n",
      "                 coef    std err          z      P>|z|      [0.025      0.975]\n",
      "------------------------------------------------------------------------------\n",
      "ma.L1         -0.4207      0.082     -5.120      0.000      -0.582      -0.260\n",
      "ar.S.L12       0.3611      0.972      0.371      0.710      -1.544       2.266\n",
      "ma.S.L12      -0.5073      0.950     -0.534      0.593      -2.369       1.354\n",
      "sigma2        14.2548      1.733      8.227      0.000      10.859      17.651\n",
      "===================================================================================\n",
      "Ljung-Box (Q):                       23.90   Jarque-Bera (JB):                 7.56\n",
      "Prob(Q):                              0.98   Prob(JB):                         0.02\n",
      "Heteroskedasticity (H):               0.78   Skew:                             0.14\n",
      "Prob(H) (two-sided):                  0.50   Kurtosis:                         4.35\n",
      "===================================================================================\n",
      "\n",
      "Warnings:\n",
      "[1] Covariance matrix calculated using the outer product of gradients (complex-step).\n"
     ]
    },
    {
     "data": {
      "image/png": "[encoded data removed]",
      "text/plain": [
       "<Figure size 432x288 with 1 Axes>"
      ]
     },
     "metadata": {
      "needs_background": "light"
     },
     "output_type": "display_data"
    },
    {
     "name": "stdout",
     "output_type": "stream",
     "text": [
      "                0\n",
      "count   97.000000\n",
      "mean     1.204777\n",
      "std     11.030314\n",
      "min    -11.965722\n",
      "25%     -2.086202\n",
      "50%      0.139407\n",
      "75%      2.143339\n",
      "max    102.169439\n"
     ]
    }
   ],
   "source": [
    "#fit model\n",
    "model_s_fit1 = model_s1.fit()\n",
    "print(model_s_fit1.summary())\n",
    "# plot residual errors\n",
    "residuals_s1 = DataFrame(model_s_fit1.resid)\n",
    "residuals_s1.plot()\n",
    "plt.show()\n",
    "print(residuals_s1.describe())"
   ]
  },
  {
   "cell_type": "code",
   "execution_count": 37,
   "metadata": {},
   "outputs": [
    {
     "data": {
      "text/plain": [
       "array([110.09337062, 110.05507055, 110.53527835])"
      ]
     },
     "execution_count": 37,
     "metadata": {},
     "output_type": "execute_result"
    }
   ],
   "source": [
    "#trying to forecast GDP for the next 6 months\n",
    "model_s_fit1.forecast(steps=3)"
   ]
  }
 ],
 "metadata": {
  "kernelspec": {
   "display_name": "Python 3",
   "language": "python",
   "name": "python3"
  },
  "language_info": {
   "codemirror_mode": {
    "name": "ipython",
    "version": 3
   },
   "file_extension": ".py",
   "mimetype": "text/x-python",
   "name": "python",
   "nbconvert_exporter": "python",
   "pygments_lexer": "ipython3",
   "version": "3.6.4"
  }
 },
 "nbformat": 4,
 "nbformat_minor": 2
}
